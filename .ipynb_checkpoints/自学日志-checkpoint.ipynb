{
 "cells": [
  {
   "cell_type": "markdown",
   "metadata": {},
   "source": [
    "# 1.25\n",
    "\n",
    "计划：尽快完成教材第8章（对应网课第五周）之前的内容。\n",
    "\n",
    "具体包含 1.看书 2.网课的题 3.视频\n",
    "\n",
    "# 1.26 \n",
    "Python 用途：\n",
    "\n",
    "1. 爬虫玩\n",
    "\n",
    "2. Web设计\n",
    "\n",
    "3. Data Science (Data Analysis)\n",
    "\n",
    "4. Machine Learning\n",
    "\n",
    "笔记怎么做？\n",
    "\n",
    "# 1.27\n",
    "\n",
    "1. 规划之后的工作计划 \n",
    "2. 抓紧时间看完课程全部\n",
    "\n",
    "# 1.31\n",
    "\n",
    "1.加快速度\n",
    "2. 教材后半部分全靠看，不做题不看视频\n",
    "3. 寻找合适edx课程开始继续下去\n",
    "\n",
    "# 2.2\n",
    "\n",
    "目前急需解决的问题：\n",
    "1. 廖雪峰那里的东西没学完（线程 进程 访问数据库 网络编程）\n",
    "2. Py教材后半部分还有很多有意义 （看着办吧）\n",
    "\n",
    "正需要解决的问题：\n",
    "1. soccer data analysis week1 的notebook （值得仔细研究）\n",
    "2. 继续了解kaggle\n",
    "\n",
    "以后需要完成：\n",
    "1. 学习edX课程"
   ]
  },
  {
   "cell_type": "markdown",
   "metadata": {},
   "source": [
    "### 2018年9月1日12:23:18\n",
    "\n",
    "复习：\n",
    "\n",
    "1.numpy pandas jupyter 和可视化工具\n",
    "\n",
    "2.统计学 机器学习"
   ]
  }
 ],
 "metadata": {
  "kernelspec": {
   "display_name": "Python 3",
   "language": "python",
   "name": "python3"
  },
  "language_info": {
   "codemirror_mode": {
    "name": "ipython",
    "version": 3
   },
   "file_extension": ".py",
   "mimetype": "text/x-python",
   "name": "python",
   "nbconvert_exporter": "python",
   "pygments_lexer": "ipython3",
   "version": "3.6.1"
  }
 },
 "nbformat": 4,
 "nbformat_minor": 2
}
