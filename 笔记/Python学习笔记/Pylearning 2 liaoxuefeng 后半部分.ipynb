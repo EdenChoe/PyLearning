{
 "cells": [
  {
   "cell_type": "markdown",
   "metadata": {},
   "source": [
    "# Pylearing notebook"
   ]
  },
  {
   "cell_type": "markdown",
   "metadata": {},
   "source": [
    "### IO 编程"
   ]
  },
  {
   "cell_type": "code",
   "execution_count": 16,
   "metadata": {},
   "outputs": [
    {
     "name": "stdout",
     "output_type": "stream",
     "text": [
      "; for 16-bit app support\n",
      "[386Enh]\n",
      "woafont=dosapp.fon\n",
      "EGA80WOA.FON=EGA80WOA.FON\n",
      "EGA40WOA.FON=EGA40WOA.FON\n",
      "CGA80WOA.FON=CGA80WOA.FON\n",
      "CGA40WOA.FON=CGA40WOA.FON\n",
      "\n",
      "[drivers]\n",
      "wave=mmdrv.dll\n",
      "timer=timer.drv\n",
      "\n",
      "[mci]\n",
      "\n"
     ]
    }
   ],
   "source": [
    "f = open(r'C:\\Windows\\system.ini','r')\n",
    "print(f.read())\n",
    "f.close()"
   ]
  },
  {
   "cell_type": "code",
   "execution_count": 42,
   "metadata": {},
   "outputs": [
    {
     "name": "stdout",
     "output_type": "stream",
     "text": [
      "; for 16-bit app support\n",
      "[386Enh]\n",
      "woafont=dosapp.fon\n",
      "EGA80WOA.FON=EGA80WOA.FON\n",
      "EGA40WOA.FON=EGA40WOA.FON\n",
      "CGA80WOA.FON=CGA80WOA.FON\n",
      "CGA40WOA.FON=CGA40WOA.FON\n",
      "\n",
      "[drivers]\n",
      "wave=mmdrv.dll\n",
      "timer=timer.drv\n",
      "\n",
      "[mci]\n",
      "\n"
     ]
    }
   ],
   "source": [
    "fpath = r'C:\\Windows\\system.ini'\n",
    "try:\n",
    "    f = open(fpath, 'r')\n",
    "    print(f.read())\n",
    "    a = f.read()\n",
    "finally:\n",
    "    if f:\n",
    "        f.close()"
   ]
  },
  {
   "cell_type": "markdown",
   "metadata": {},
   "source": [
    "** 但是每次都这么写实在太繁琐，所以，Python引入了with语句来自动帮我们调用close()方法：**"
   ]
  },
  {
   "cell_type": "code",
   "execution_count": 18,
   "metadata": {},
   "outputs": [
    {
     "name": "stdout",
     "output_type": "stream",
     "text": [
      "; for 16-bit app support\n",
      "[386Enh]\n",
      "woafont=dosapp.fon\n",
      "EGA80WOA.FON=EGA80WOA.FON\n",
      "EGA40WOA.FON=EGA40WOA.FON\n",
      "CGA80WOA.FON=CGA80WOA.FON\n",
      "CGA40WOA.FON=CGA40WOA.FON\n",
      "\n",
      "[drivers]\n",
      "wave=mmdrv.dll\n",
      "timer=timer.drv\n",
      "\n",
      "[mci]\n",
      "\n"
     ]
    }
   ],
   "source": [
    "with open(r'C:\\Windows\\system.ini', 'r') as f:\n",
    "    print(f.read())"
   ]
  },
  {
   "cell_type": "markdown",
   "metadata": {},
   "source": [
    "在Python中，文件读写是通过open()函数打开的文件对象完成的。使用with语句操作文件IO是个好习惯。\n",
    "\n",
    "调用read()会一次性读取文件的全部内容，如果文件有10G，内存就爆了，所以，要保险起见，可以反复调用read(size)方法，每次最多读取size个字节的内容。另外，调用readline()可以每次读取一行内容，调用readlines()一次读取所有内容并按行返回list。因此，要根据需要决定怎么调用。"
   ]
  },
  {
   "cell_type": "code",
   "execution_count": 9,
   "metadata": {},
   "outputs": [
    {
     "name": "stdout",
     "output_type": "stream",
     "text": [
      "; for 16-b\n",
      "it app support\n",
      "\n",
      "[386Enh]\n",
      "\n",
      "['woafont=dosapp.fon\\n', 'EGA80WOA.FON=EGA80WOA.FON\\n', 'EGA40WOA.FON=EGA40WOA.FON\\n', 'CGA80WOA.FON=CGA80WOA.FON\\n', 'CGA40WOA.FON=CGA40WOA.FON\\n', '\\n', '[drivers]\\n', 'wave=mmdrv.dll\\n', 'timer=timer.drv\\n', '\\n', '[mci]\\n']\n"
     ]
    }
   ],
   "source": [
    "f = open(r'C:\\Windows\\system.ini','r')\n",
    "i = 0\n",
    "print(f.read(10)) #读取前10个str\n",
    "print(f.readline()) #读取一行\n",
    "print(f.readline()) #读取一行\n",
    "print(f.readlines()) #返回list 每个元素是一行\n",
    "f.close()"
   ]
  },
  {
   "cell_type": "code",
   "execution_count": 17,
   "metadata": {},
   "outputs": [
    {
     "name": "stdout",
     "output_type": "stream",
     "text": [
      "b'\\xff\\xd8\\xff\\xe0\\x00\\x10JFIF\\x00\\x01\\x01\\x01\\x01,\\x01,\\x00\\x00'\n"
     ]
    }
   ],
   "source": [
    "with open(r'D:\\OneDrive\\1.jpg', 'rb') as f: #'rb' 二进制读文件\n",
    "    print(f.read(20))"
   ]
  },
  {
   "cell_type": "markdown",
   "metadata": {},
   "source": [
    "写文件"
   ]
  },
  {
   "cell_type": "code",
   "execution_count": 23,
   "metadata": {},
   "outputs": [
    {
     "name": "stdout",
     "output_type": "stream",
     "text": [
      "Hello, world!\n"
     ]
    }
   ],
   "source": [
    "with open('test.txt', 'w') as f:\n",
    "    f.write('Hello, world!')\n",
    "with open('test.txt', 'r') as f:\n",
    "    print(f.read())"
   ]
  },
  {
   "cell_type": "markdown",
   "metadata": {},
   "source": [
    "### StringIO和BytesIO\n",
    "\n",
    "很多时候，数据读写不一定是文件，也可以在内存中读写。目前还不知道有什么用，感觉就是用一个内存中的一个变量存储了起来。\n",
    "\n",
    "StringIO顾名思义就是在内存中读写str。\n",
    "\n",
    "要把str写入StringIO，我们需要先创建一个StringIO，然后，像文件一样写入即可："
   ]
  },
  {
   "cell_type": "code",
   "execution_count": 25,
   "metadata": {},
   "outputs": [
    {
     "name": "stdout",
     "output_type": "stream",
     "text": [
      "hello world!\n"
     ]
    }
   ],
   "source": [
    "from io import StringIO\n",
    "f = StringIO()\n",
    "f.write('hello')\n",
    "f.write(' ')\n",
    "f.write('world!')\n",
    "print(f.getvalue())\n"
   ]
  },
  {
   "cell_type": "code",
   "execution_count": 42,
   "metadata": {},
   "outputs": [
    {
     "name": "stdout",
     "output_type": "stream",
     "text": [
      "Hello!\n",
      "Hi!\n",
      "Goodbye!"
     ]
    }
   ],
   "source": [
    "from io import BytesIO\n",
    "f = StringIO('Hello!\\nHi!\\nGoodbye!')\n",
    "while True:\n",
    "    s = f.readline()\n",
    "    if s == '':\n",
    "        break\n",
    "    print(s,end='')"
   ]
  },
  {
   "cell_type": "markdown",
   "metadata": {},
   "source": [
    " ### BytesIO"
   ]
  },
  {
   "cell_type": "code",
   "execution_count": 44,
   "metadata": {},
   "outputs": [
    {
     "name": "stdout",
     "output_type": "stream",
     "text": [
      "中文\n"
     ]
    }
   ],
   "source": [
    "from io import BytesIO\n",
    "f = BytesIO()\n",
    "f.write('中文'.encode('utf-8')) # 写入的不是string ，而是经过utf-8编码的Bytes\n",
    "print(f.getvalue().decode('utf-8'))"
   ]
  },
  {
   "cell_type": "markdown",
   "metadata": {},
   "source": [
    "### with 语句\n",
    "\n",
    "目前with语句在单元测试和文件读写中出现过   \n",
    ">with self.assertRaises(KeyError):<br\\>\n",
    ">value = d['empty']\n",
    "\n",
    ">with open(r'C:\\Windows\\system.ini', 'r') as f:<br\\>\n",
    ">print(f.read())\n",
    "\n",
    "链接:<br\\> \n",
    "[with相关文档](https://docs.python.org/3/reference/compound_stmts.html#with)\n",
    "目前还没有看懂。"
   ]
  },
  {
   "cell_type": "markdown",
   "metadata": {
    "collapsed": true
   },
   "source": [
    "## import os 操作文件和目录\n"
   ]
  },
  {
   "cell_type": "code",
   "execution_count": 45,
   "metadata": {},
   "outputs": [
    {
     "data": {
      "text/plain": [
       "'nt'"
      ]
     },
     "execution_count": 45,
     "metadata": {},
     "output_type": "execute_result"
    }
   ],
   "source": [
    "import os\n",
    "os.name # 如果是posix，说明系统是Linux、Unix或Mac OS X，如果是nt，就是Windows系统"
   ]
  },
  {
   "cell_type": "code",
   "execution_count": 46,
   "metadata": {},
   "outputs": [
    {
     "data": {
      "text/plain": [
       "environ({'ALLUSERSPROFILE': 'C:\\\\ProgramData', 'APPDATA': 'C:\\\\Users\\\\Eden\\\\AppData\\\\Roaming', 'COMMONPROGRAMFILES': 'C:\\\\Program Files\\\\Common Files', 'COMMONPROGRAMFILES(X86)': 'C:\\\\Program Files (x86)\\\\Common Files', 'COMMONPROGRAMW6432': 'C:\\\\Program Files\\\\Common Files', 'COMPUTERNAME': 'DESKTOP-GRJE00G', 'COMSPEC': 'C:\\\\WINDOWS\\\\system32\\\\cmd.exe', 'HOMEDRIVE': 'C:', 'HOMEPATH': '\\\\Users\\\\Eden', 'LOCALAPPDATA': 'C:\\\\Users\\\\Eden\\\\AppData\\\\Local', 'LOGONSERVER': '\\\\\\\\DESKTOP-GRJE00G', 'MOZ_PLUGIN_PATH': 'C:\\\\Program Files (x86)\\\\Foxit Software\\\\Foxit Reader Plus\\\\plugins\\\\', 'NUMBER_OF_PROCESSORS': '4', 'ONEDRIVE': 'D:\\\\OneDrive', 'OS': 'Windows_NT', 'PATH': 'D:\\\\Anaconda3\\\\Library\\\\bin;D:\\\\Anaconda3\\\\Library\\\\bin;D:\\\\Anaconda3\\\\Scripts;D:\\\\Anaconda3\\\\Library\\\\bin;C:\\\\WINDOWS\\\\system32;C:\\\\WINDOWS;C:\\\\WINDOWS\\\\System32\\\\Wbem;C:\\\\WINDOWS\\\\System32\\\\WindowsPowerShell\\\\v1.0\\\\;D:\\\\Anaconda3;D:\\\\Anaconda3\\\\Scripts;C:\\\\Users\\\\Eden\\\\AppData\\\\Local\\\\Microsoft\\\\WindowsApps;', 'PATHEXT': '.COM;.EXE;.BAT;.CMD;.VBS;.VBE;.JS;.JSE;.WSF;.WSH;.MSC', 'PROCESSOR_ARCHITECTURE': 'AMD64', 'PROCESSOR_IDENTIFIER': 'Intel64 Family 6 Model 61 Stepping 4, GenuineIntel', 'PROCESSOR_LEVEL': '6', 'PROCESSOR_REVISION': '3d04', 'PROGRAMDATA': 'C:\\\\ProgramData', 'PROGRAMFILES': 'C:\\\\Program Files', 'PROGRAMFILES(X86)': 'C:\\\\Program Files (x86)', 'PROGRAMW6432': 'C:\\\\Program Files', 'PROMPT': '$P$G', 'PSMODULEPATH': 'C:\\\\WINDOWS\\\\system32\\\\WindowsPowerShell\\\\v1.0\\\\Modules\\\\', 'PUBLIC': 'C:\\\\Users\\\\Public', 'SESSIONNAME': 'Console', 'SYSTEMDRIVE': 'C:', 'SYSTEMROOT': 'C:\\\\WINDOWS', 'TEMP': 'C:\\\\Users\\\\Eden\\\\AppData\\\\Local\\\\Temp', 'TMP': 'C:\\\\Users\\\\Eden\\\\AppData\\\\Local\\\\Temp', 'USERDOMAIN': 'DESKTOP-GRJE00G', 'USERDOMAIN_ROAMINGPROFILE': 'DESKTOP-GRJE00G', 'USERNAME': 'Eden', 'USERPROFILE': 'C:\\\\Users\\\\Eden', 'WINDIR': 'C:\\\\WINDOWS', 'JPY_INTERRUPT_EVENT': '1756', 'IPY_INTERRUPT_EVENT': '1756', 'JPY_PARENT_PID': '1748', 'TERM': 'xterm-color', 'CLICOLOR': '1', 'PAGER': 'cat', 'GIT_PAGER': 'cat', 'MPLBACKEND': 'module://ipykernel.pylab.backend_inline'})"
      ]
     },
     "execution_count": 46,
     "metadata": {},
     "output_type": "execute_result"
    }
   ],
   "source": [
    "os.environ"
   ]
  },
  {
   "cell_type": "code",
   "execution_count": 50,
   "metadata": {},
   "outputs": [
    {
     "name": "stdout",
     "output_type": "stream",
     "text": [
      "D:\\Anaconda3\\Library\\bin;D:\\Anaconda3\\Library\\bin;D:\\Anaconda3\\Scripts;D:\\Anaconda3\\Library\\bin;C:\\WINDOWS\\system32;C:\\WINDOWS;C:\\WINDOWS\\System32\\Wbem;C:\\WINDOWS\\System32\\WindowsPowerShell\\v1.0\\;D:\\Anaconda3;D:\\Anaconda3\\Scripts;C:\\Users\\Eden\\AppData\\Local\\Microsoft\\WindowsApps;\n"
     ]
    }
   ],
   "source": [
    "print(os.environ.get('Path'))"
   ]
  },
  {
   "cell_type": "code",
   "execution_count": 53,
   "metadata": {},
   "outputs": [
    {
     "ename": "FileNotFoundError",
     "evalue": "[WinError 3] 系统找不到指定的路径。: '/Users/michael/testdir'",
     "output_type": "error",
     "traceback": [
      "\u001b[1;31m---------------------------------------------------------------------------\u001b[0m",
      "\u001b[1;31mFileNotFoundError\u001b[0m                         Traceback (most recent call last)",
      "\u001b[1;32m<ipython-input-53-33c89658dbd3>\u001b[0m in \u001b[0;36m<module>\u001b[1;34m()\u001b[0m\n\u001b[0;32m      3\u001b[0m \u001b[0mos\u001b[0m\u001b[1;33m.\u001b[0m\u001b[0mpath\u001b[0m\u001b[1;33m.\u001b[0m\u001b[0mjoin\u001b[0m\u001b[1;33m(\u001b[0m\u001b[1;34m'/Users/michael'\u001b[0m\u001b[1;33m,\u001b[0m \u001b[1;34m'testdir'\u001b[0m\u001b[1;33m)\u001b[0m\u001b[1;33m\u001b[0m\u001b[0m\n\u001b[0;32m      4\u001b[0m \u001b[1;31m# 然后创建一个目录:\u001b[0m\u001b[1;33m\u001b[0m\u001b[1;33m\u001b[0m\u001b[0m\n\u001b[1;32m----> 5\u001b[1;33m \u001b[0mos\u001b[0m\u001b[1;33m.\u001b[0m\u001b[0mmkdir\u001b[0m\u001b[1;33m(\u001b[0m\u001b[1;34m'/Users/michael/testdir'\u001b[0m\u001b[1;33m)\u001b[0m\u001b[1;33m\u001b[0m\u001b[0m\n\u001b[0m\u001b[0;32m      6\u001b[0m \u001b[1;31m# 删掉一个目录:\u001b[0m\u001b[1;33m\u001b[0m\u001b[1;33m\u001b[0m\u001b[0m\n\u001b[0;32m      7\u001b[0m \u001b[0mos\u001b[0m\u001b[1;33m.\u001b[0m\u001b[0mrmdir\u001b[0m\u001b[1;33m(\u001b[0m\u001b[1;34m'/Users/michael/testdir'\u001b[0m\u001b[1;33m)\u001b[0m\u001b[1;33m\u001b[0m\u001b[0m\n",
      "\u001b[1;31mFileNotFoundError\u001b[0m: [WinError 3] 系统找不到指定的路径。: '/Users/michael/testdir'"
     ]
    }
   ],
   "source": [
    "# 查看当前目录的绝对路径:os.path.abspath('.')\n",
    "'/Users/michael'\n",
    "# 在某个目录下创建一个新目录，首先把新目录的完整路径表示出来:\n",
    "os.path.join('/Users/michael', 'testdir')\n",
    "\n",
    "# 然后创建一个目录:\n",
    "os.mkdir('/Users/michael/testdir')\n",
    "# 删掉一个目录:\n",
    "os.rmdir('/Users/michael/testdir')"
   ]
  },
  {
   "cell_type": "code",
   "execution_count": 67,
   "metadata": {},
   "outputs": [
    {
     "data": {
      "text/plain": [
       "'D:\\\\OneDrive\\\\Jupyter'"
      ]
     },
     "execution_count": 67,
     "metadata": {},
     "output_type": "execute_result"
    }
   ],
   "source": [
    "os.path.abspath('.')# 查看当前目录的绝对路径:os.path.abspath('.')"
   ]
  },
  {
   "cell_type": "code",
   "execution_count": 60,
   "metadata": {},
   "outputs": [
    {
     "name": "stdout",
     "output_type": "stream",
     "text": [
      "D:\\OneDrive\\Jupyter\\testdir\n"
     ]
    }
   ],
   "source": [
    "newdir = os.path.join(os.path.abspath('.'),'testdir') #在某个目录下创建一个新目录，首先把新目录的完整路径表示出来:\n",
    "print(newdir)"
   ]
  },
  {
   "cell_type": "code",
   "execution_count": 65,
   "metadata": {},
   "outputs": [
    {
     "ename": "FileExistsError",
     "evalue": "[WinError 183] 当文件已存在时，无法创建该文件。: 'D:\\\\OneDrive\\\\Jupyter\\\\testdir'",
     "output_type": "error",
     "traceback": [
      "\u001b[1;31m---------------------------------------------------------------------------\u001b[0m",
      "\u001b[1;31mFileExistsError\u001b[0m                           Traceback (most recent call last)",
      "\u001b[1;32m<ipython-input-65-114790da7551>\u001b[0m in \u001b[0;36m<module>\u001b[1;34m()\u001b[0m\n\u001b[1;32m----> 1\u001b[1;33m \u001b[0mos\u001b[0m\u001b[1;33m.\u001b[0m\u001b[0mmkdir\u001b[0m\u001b[1;33m(\u001b[0m\u001b[0mnewdir\u001b[0m\u001b[1;33m)\u001b[0m\u001b[1;31m# 然后创建一个目录:\u001b[0m\u001b[1;33m\u001b[0m\u001b[0m\n\u001b[0m",
      "\u001b[1;31mFileExistsError\u001b[0m: [WinError 183] 当文件已存在时，无法创建该文件。: 'D:\\\\OneDrive\\\\Jupyter\\\\testdir'"
     ]
    }
   ],
   "source": [
    "os.mkdir(newdir)# 然后创建一个目录:"
   ]
  },
  {
   "cell_type": "code",
   "execution_count": 66,
   "metadata": {},
   "outputs": [
    {
     "name": "stdout",
     "output_type": "stream",
     "text": [
      " 驱动器 D 中的卷没有标签。\n",
      " 卷的序列号是 68CE-FC4E\n",
      "\n",
      " D:\\OneDrive\\Jupyter 的目录\n",
      "\n",
      "2018/01/23  15:41    <DIR>          .\n",
      "2018/01/23  15:41    <DIR>          ..\n",
      "2018/01/23  14:12    <DIR>          .ipynb_checkpoints\n",
      "2018/01/23  15:02             9,899 Jupyter and Markdown Notes.ipynb\n",
      "2018/01/21  14:04            10,320 learning.py\n",
      "2018/01/22  15:47             1,808 mydict.py\n",
      "2018/01/22  15:08             1,262 mydict_test.py\n",
      "2018/01/23  15:40            17,764 Pylearning Notebook 2.ipynb\n",
      "2018/01/23  14:08            63,941 PyLearning.ipynb\n",
      "2018/01/23  15:06                13 test.txt\n",
      "2018/01/23  15:41    <DIR>          testdir\n",
      "2018/01/23  13:48    <DIR>          __pycache__\n",
      "               7 个文件        105,007 字节\n",
      "               5 个目录 13,409,148,928 可用字节\n"
     ]
    }
   ],
   "source": [
    "! dir"
   ]
  },
  {
   "cell_type": "code",
   "execution_count": 69,
   "metadata": {
    "collapsed": true
   },
   "outputs": [],
   "source": [
    "os.rmdir(newdir)# 删掉一个目录:"
   ]
  },
  {
   "cell_type": "code",
   "execution_count": 70,
   "metadata": {},
   "outputs": [
    {
     "name": "stdout",
     "output_type": "stream",
     "text": [
      " 驱动器 D 中的卷没有标签。\n",
      " 卷的序列号是 68CE-FC4E\n",
      "\n",
      " D:\\OneDrive\\Jupyter 的目录\n",
      "\n",
      "2018/01/23  15:42    <DIR>          .\n",
      "2018/01/23  15:42    <DIR>          ..\n",
      "2018/01/23  14:12    <DIR>          .ipynb_checkpoints\n",
      "2018/01/23  15:02             9,899 Jupyter and Markdown Notes.ipynb\n",
      "2018/01/21  14:04            10,320 learning.py\n",
      "2018/01/22  15:47             1,808 mydict.py\n",
      "2018/01/22  15:08             1,262 mydict_test.py\n",
      "2018/01/23  15:42            20,046 Pylearning Notebook 2.ipynb\n",
      "2018/01/23  14:08            63,941 PyLearning.ipynb\n",
      "2018/01/23  15:06                13 test.txt\n",
      "2018/01/23  13:48    <DIR>          __pycache__\n",
      "               7 个文件        107,289 字节\n",
      "               4 个目录 13,409,148,928 可用字节\n"
     ]
    }
   ],
   "source": [
    "! dir"
   ]
  },
  {
   "cell_type": "markdown",
   "metadata": {},
   "source": [
    "** WINDOWS 和Linux 系统的目录格式不一样！**\n",
    "- windows:\\ \n",
    "- linux:/"
   ]
  },
  {
   "cell_type": "code",
   "execution_count": 72,
   "metadata": {},
   "outputs": [
    {
     "data": {
      "text/plain": [
       "('/Users/michael/testdir', 'file.txt')"
      ]
     },
     "execution_count": 72,
     "metadata": {},
     "output_type": "execute_result"
    }
   ],
   "source": [
    "os.path.split('/Users/michael/testdir/file.txt')"
   ]
  },
  {
   "cell_type": "code",
   "execution_count": 74,
   "metadata": {},
   "outputs": [
    {
     "data": {
      "text/plain": [
       "('/path/to/file', '.txt')"
      ]
     },
     "execution_count": 74,
     "metadata": {},
     "output_type": "execute_result"
    }
   ],
   "source": [
    "os.path.splitext('/path/to/file.txt')"
   ]
  },
  {
   "cell_type": "markdown",
   "metadata": {},
   "source": [
    "### 查找本文件夹中所有的py源文件"
   ]
  },
  {
   "cell_type": "code",
   "execution_count": 71,
   "metadata": {},
   "outputs": [
    {
     "data": {
      "text/plain": [
       "['learning.py', 'mydict.py', 'mydict_test.py']"
      ]
     },
     "execution_count": 71,
     "metadata": {},
     "output_type": "execute_result"
    }
   ],
   "source": [
    "[x for x in os.listdir('.') if os.path.isfile(x) and os.path.splitext(x)[1]=='.py']"
   ]
  },
  {
   "cell_type": "markdown",
   "metadata": {},
   "source": [
    "### JSON \n",
    "\n",
    "把变量从内存中变成可存储或传输的过程称之为序列化。\n",
    "\n",
    "Python语言特定的序列化模块是pickle，但如果要把序列化搞得更通用、更符合Web标准，就可以使用json模块。"
   ]
  },
  {
   "cell_type": "code",
   "execution_count": 93,
   "metadata": {},
   "outputs": [
    {
     "name": "stdout",
     "output_type": "stream",
     "text": [
      "{'name': 'Bob', 'age': 20, 'score': 88}\n",
      "b'\\x80\\x03}q\\x00(X\\x04\\x00\\x00\\x00nameq\\x01X\\x03\\x00\\x00\\x00Bobq\\x02X\\x03\\x00\\x00\\x00ageq\\x03K\\x14X\\x05\\x00\\x00\\x00scoreq\\x04KXu.'\n",
      "{'name': 'Bob', 'age': 20, 'score': 88}\n"
     ]
    }
   ],
   "source": [
    "import pickle\n",
    "d = dict(name='Bob', age=20, score=88)\n",
    "print(d)\n",
    "print(pickle.dumps(d))\n",
    "with open(r'D:/OneDrive/Jupyter/test.txt','wb') as f: # 'wb' Bytes 写入 pickle 返回这本质上是Bytes\n",
    "    pickle.dump(d,f)\n",
    "with open(r'D:/OneDrive/Jupyter/test.txt','rb') as f:\n",
    "    print(pickle.load(f))\n"
   ]
  },
  {
   "cell_type": "code",
   "execution_count": 97,
   "metadata": {},
   "outputs": [
    {
     "name": "stdout",
     "output_type": "stream",
     "text": [
      "{'name': 'Bob', 'age': 20, 'score': 88}\n",
      "{\"name\": \"Bob\", \"age\": 20, \"score\": 88}\n",
      "{'name': 'Bob', 'age': 20, 'score': 88}\n"
     ]
    }
   ],
   "source": [
    "import json\n",
    "d = dict(name='Bob', age=20, score=88)\n",
    "print(d)\n",
    "print(json.dumps(d))\n",
    "with open(r'D:/OneDrive/Jupyter/test.txt','w') as f: # 'w' str写入, json dump的返回值本质上是str \n",
    "    json.dump(d,f)\n",
    "with open(r'D:/OneDrive/Jupyter/test.txt','r') as f:\n",
    "    print(json.load(f))"
   ]
  },
  {
   "cell_type": "markdown",
   "metadata": {},
   "source": [
    "### JSON 存储对象的属性"
   ]
  },
  {
   "cell_type": "code",
   "execution_count": 98,
   "metadata": {},
   "outputs": [
    {
     "name": "stdout",
     "output_type": "stream",
     "text": [
      "{\"name\": \"Bob\", \"age\": 20, \"score\": 88}\n"
     ]
    }
   ],
   "source": [
    "class Student(object):\n",
    "    def __init__(self, name, age, score):\n",
    "        self.name = name\n",
    "        self.age = age\n",
    "        self.score = score\n",
    "\n",
    "def student2dict(std):\n",
    "    return {\n",
    "        'name': std.name,\n",
    "        'age': std.age,\n",
    "        'score': std.score\n",
    "    }\n",
    "\n",
    "s = Student('Bob', 20, 88)\n",
    "print(json.dumps(s, default=student2dict)) #使用student2dict 函数将对象的属性转化为dict\n",
    "#最终达到使用json存储对象属性的目的"
   ]
  },
  {
   "cell_type": "code",
   "execution_count": null,
   "metadata": {
    "collapsed": true
   },
   "outputs": [],
   "source": []
  },
  {
   "cell_type": "markdown",
   "metadata": {
    "collapsed": true
   },
   "source": [
    "---"
   ]
  },
  {
   "cell_type": "markdown",
   "metadata": {
    "collapsed": true
   },
   "source": [
    "### 作用域 scope \n",
    "\n",
    "每次函数调用都会生成一个新的作用域，这些作用域的结构就如栈一样。\n",
    "\n",
    "内层函数可以使用外层函数的变量，但一般不能修改外层函数的变量，目测list可以。\n",
    "\n",
    "推荐上python tutor上玩一下，就知道什么是作用域了。\n",
    "\n",
    "网站推荐：\n",
    "[Python Tutor](http://pythontutor.com/)"
   ]
  },
  {
   "cell_type": "code",
   "execution_count": 1,
   "metadata": {},
   "outputs": [
    {
     "data": {
      "text/plain": [
       "2"
      ]
     },
     "execution_count": 1,
     "metadata": {},
     "output_type": "execute_result"
    }
   ],
   "source": [
    "a = 10\n",
    "def f(x): #这里定义了f函数，但是解释器只是将f指向一个如下函数，但是没有执行这些函数体\n",
    "    return x + a\n",
    "a = 1\n",
    "f(1) #函数f在被调用前，从未被执行过，找到被调用时才执行。(这是a = 1)"
   ]
  },
  {
   "cell_type": "code",
   "execution_count": 7,
   "metadata": {},
   "outputs": [
    {
     "name": "stdout",
     "output_type": "stream",
     "text": [
      "1\n",
      "None\n"
     ]
    }
   ],
   "source": [
    "def f(x):\n",
    "    def g(): #f里面定义的函数g，只能在f中使用\n",
    "        print(x) #函数g可以使用外层函数f的变量x\n",
    "    g()\n",
    "print(f(1))"
   ]
  },
  {
   "cell_type": "code",
   "execution_count": 12,
   "metadata": {},
   "outputs": [
    {
     "name": "stdout",
     "output_type": "stream",
     "text": [
      "g.x = 3\n",
      "f.x = 1\n",
      "None\n"
     ]
    }
   ],
   "source": [
    "def f(x):\n",
    "    def g(): \n",
    "        x = 3  #g中的x和f中的x不是一个x，而是在不同命名空间中的x。\n",
    "        print('g.x = '+ str(x)) \n",
    "    g()\n",
    "    print('f.x = '+ str(x))\n",
    "print(f(1))"
   ]
  },
  {
   "cell_type": "code",
   "execution_count": 14,
   "metadata": {
    "scrolled": true
   },
   "outputs": [
    {
     "ename": "UnboundLocalError",
     "evalue": "local variable 'x' referenced before assignment",
     "output_type": "error",
     "traceback": [
      "\u001b[1;31m---------------------------------------------------------------------------\u001b[0m",
      "\u001b[1;31mUnboundLocalError\u001b[0m                         Traceback (most recent call last)",
      "\u001b[1;32m<ipython-input-14-8f66925f2298>\u001b[0m in \u001b[0;36m<module>\u001b[1;34m()\u001b[0m\n\u001b[0;32m      6\u001b[0m     \u001b[0mg\u001b[0m\u001b[1;33m(\u001b[0m\u001b[1;33m)\u001b[0m\u001b[1;33m\u001b[0m\u001b[0m\n\u001b[0;32m      7\u001b[0m     \u001b[0mprint\u001b[0m\u001b[1;33m(\u001b[0m\u001b[1;34m'f.x = '\u001b[0m\u001b[1;33m+\u001b[0m \u001b[0mstr\u001b[0m\u001b[1;33m(\u001b[0m\u001b[0mx\u001b[0m\u001b[1;33m)\u001b[0m\u001b[1;33m)\u001b[0m\u001b[1;33m\u001b[0m\u001b[0m\n\u001b[1;32m----> 8\u001b[1;33m \u001b[0mprint\u001b[0m\u001b[1;33m(\u001b[0m\u001b[0mf\u001b[0m\u001b[1;33m(\u001b[0m\u001b[1;36m1\u001b[0m\u001b[1;33m)\u001b[0m\u001b[1;33m)\u001b[0m\u001b[1;33m\u001b[0m\u001b[0m\n\u001b[0m",
      "\u001b[1;32m<ipython-input-14-8f66925f2298>\u001b[0m in \u001b[0;36mf\u001b[1;34m(x)\u001b[0m\n\u001b[0;32m      4\u001b[0m         \u001b[1;31m#这里的x是g函数命名空间中的x还是f命名空间中的x？\u001b[0m\u001b[1;33m\u001b[0m\u001b[1;33m\u001b[0m\u001b[0m\n\u001b[0;32m      5\u001b[0m         \u001b[0mprint\u001b[0m\u001b[1;33m(\u001b[0m\u001b[1;34m'g.x = '\u001b[0m\u001b[1;33m+\u001b[0m \u001b[0mstr\u001b[0m\u001b[1;33m(\u001b[0m\u001b[0mx\u001b[0m\u001b[1;33m)\u001b[0m\u001b[1;33m)\u001b[0m\u001b[1;33m\u001b[0m\u001b[0m\n\u001b[1;32m----> 6\u001b[1;33m     \u001b[0mg\u001b[0m\u001b[1;33m(\u001b[0m\u001b[1;33m)\u001b[0m\u001b[1;33m\u001b[0m\u001b[0m\n\u001b[0m\u001b[0;32m      7\u001b[0m     \u001b[0mprint\u001b[0m\u001b[1;33m(\u001b[0m\u001b[1;34m'f.x = '\u001b[0m\u001b[1;33m+\u001b[0m \u001b[0mstr\u001b[0m\u001b[1;33m(\u001b[0m\u001b[0mx\u001b[0m\u001b[1;33m)\u001b[0m\u001b[1;33m)\u001b[0m\u001b[1;33m\u001b[0m\u001b[0m\n\u001b[0;32m      8\u001b[0m \u001b[0mprint\u001b[0m\u001b[1;33m(\u001b[0m\u001b[0mf\u001b[0m\u001b[1;33m(\u001b[0m\u001b[1;36m1\u001b[0m\u001b[1;33m)\u001b[0m\u001b[1;33m)\u001b[0m\u001b[1;33m\u001b[0m\u001b[0m\n",
      "\u001b[1;32m<ipython-input-14-8f66925f2298>\u001b[0m in \u001b[0;36mg\u001b[1;34m()\u001b[0m\n\u001b[0;32m      1\u001b[0m \u001b[1;32mdef\u001b[0m \u001b[0mf\u001b[0m\u001b[1;33m(\u001b[0m\u001b[0mx\u001b[0m\u001b[1;33m)\u001b[0m\u001b[1;33m:\u001b[0m\u001b[1;33m\u001b[0m\u001b[0m\n\u001b[0;32m      2\u001b[0m     \u001b[1;32mdef\u001b[0m \u001b[0mg\u001b[0m\u001b[1;33m(\u001b[0m\u001b[1;33m)\u001b[0m\u001b[1;33m:\u001b[0m\u001b[1;33m\u001b[0m\u001b[0m\n\u001b[1;32m----> 3\u001b[1;33m         \u001b[0mx\u001b[0m \u001b[1;33m=\u001b[0m \u001b[0mx\u001b[0m \u001b[1;33m+\u001b[0m \u001b[1;36m3\u001b[0m\u001b[1;33m\u001b[0m\u001b[0m\n\u001b[0m\u001b[0;32m      4\u001b[0m         \u001b[1;31m#这里的x是g函数命名空间中的x还是f命名空间中的x？\u001b[0m\u001b[1;33m\u001b[0m\u001b[1;33m\u001b[0m\u001b[0m\n\u001b[0;32m      5\u001b[0m         \u001b[0mprint\u001b[0m\u001b[1;33m(\u001b[0m\u001b[1;34m'g.x = '\u001b[0m\u001b[1;33m+\u001b[0m \u001b[0mstr\u001b[0m\u001b[1;33m(\u001b[0m\u001b[0mx\u001b[0m\u001b[1;33m)\u001b[0m\u001b[1;33m)\u001b[0m\u001b[1;33m\u001b[0m\u001b[0m\n",
      "\u001b[1;31mUnboundLocalError\u001b[0m: local variable 'x' referenced before assignment"
     ]
    }
   ],
   "source": [
    "def f(x):\n",
    "    def g(): \n",
    "        x = x + 3  \n",
    "        #这里的x是g函数命名空间中的x还是f命名空间中的x？\n",
    "        #因此不允许这种使用方法\n",
    "        print('g.x = '+ str(x)) \n",
    "    g()\n",
    "    print('f.x = '+ str(x))\n",
    "print(f(1))"
   ]
  },
  {
   "cell_type": "code",
   "execution_count": 19,
   "metadata": {},
   "outputs": [
    {
     "ename": "UnboundLocalError",
     "evalue": "local variable 'L' referenced before assignment",
     "output_type": "error",
     "traceback": [
      "\u001b[1;31m---------------------------------------------------------------------------\u001b[0m",
      "\u001b[1;31mUnboundLocalError\u001b[0m                         Traceback (most recent call last)",
      "\u001b[1;32m<ipython-input-19-da53b48941c9>\u001b[0m in \u001b[0;36m<module>\u001b[1;34m()\u001b[0m\n\u001b[0;32m      5\u001b[0m     \u001b[0mg\u001b[0m\u001b[1;33m(\u001b[0m\u001b[1;33m)\u001b[0m\u001b[1;33m\u001b[0m\u001b[0m\n\u001b[0;32m      6\u001b[0m     \u001b[0mprint\u001b[0m\u001b[1;33m(\u001b[0m\u001b[0mL\u001b[0m\u001b[1;33m)\u001b[0m\u001b[1;33m\u001b[0m\u001b[0m\n\u001b[1;32m----> 7\u001b[1;33m \u001b[0mprint\u001b[0m\u001b[1;33m(\u001b[0m\u001b[0mf\u001b[0m\u001b[1;33m(\u001b[0m\u001b[1;33m[\u001b[0m\u001b[1;36m1\u001b[0m\u001b[1;33m,\u001b[0m\u001b[1;36m2\u001b[0m\u001b[1;33m,\u001b[0m\u001b[1;36m3\u001b[0m\u001b[1;33m]\u001b[0m\u001b[1;33m)\u001b[0m\u001b[1;33m)\u001b[0m\u001b[1;33m\u001b[0m\u001b[0m\n\u001b[0m",
      "\u001b[1;32m<ipython-input-19-da53b48941c9>\u001b[0m in \u001b[0;36mf\u001b[1;34m(L)\u001b[0m\n\u001b[0;32m      3\u001b[0m         \u001b[0mL\u001b[0m \u001b[1;33m=\u001b[0m \u001b[1;33m[\u001b[0m\u001b[0mx\u001b[0m \u001b[1;32mfor\u001b[0m \u001b[0mx\u001b[0m \u001b[1;32min\u001b[0m \u001b[0mL\u001b[0m\u001b[1;33m]\u001b[0m\u001b[1;33m\u001b[0m\u001b[0m\n\u001b[0;32m      4\u001b[0m         \u001b[0mprint\u001b[0m\u001b[1;33m(\u001b[0m\u001b[0mL\u001b[0m\u001b[1;33m)\u001b[0m\u001b[1;33m\u001b[0m\u001b[0m\n\u001b[1;32m----> 5\u001b[1;33m     \u001b[0mg\u001b[0m\u001b[1;33m(\u001b[0m\u001b[1;33m)\u001b[0m\u001b[1;33m\u001b[0m\u001b[0m\n\u001b[0m\u001b[0;32m      6\u001b[0m     \u001b[0mprint\u001b[0m\u001b[1;33m(\u001b[0m\u001b[0mL\u001b[0m\u001b[1;33m)\u001b[0m\u001b[1;33m\u001b[0m\u001b[0m\n\u001b[0;32m      7\u001b[0m \u001b[0mprint\u001b[0m\u001b[1;33m(\u001b[0m\u001b[0mf\u001b[0m\u001b[1;33m(\u001b[0m\u001b[1;33m[\u001b[0m\u001b[1;36m1\u001b[0m\u001b[1;33m,\u001b[0m\u001b[1;36m2\u001b[0m\u001b[1;33m,\u001b[0m\u001b[1;36m3\u001b[0m\u001b[1;33m]\u001b[0m\u001b[1;33m)\u001b[0m\u001b[1;33m)\u001b[0m\u001b[1;33m\u001b[0m\u001b[0m\n",
      "\u001b[1;32m<ipython-input-19-da53b48941c9>\u001b[0m in \u001b[0;36mg\u001b[1;34m()\u001b[0m\n\u001b[0;32m      1\u001b[0m \u001b[1;32mdef\u001b[0m \u001b[0mf\u001b[0m\u001b[1;33m(\u001b[0m\u001b[0mL\u001b[0m\u001b[1;33m)\u001b[0m\u001b[1;33m:\u001b[0m\u001b[1;33m\u001b[0m\u001b[0m\n\u001b[0;32m      2\u001b[0m     \u001b[1;32mdef\u001b[0m \u001b[0mg\u001b[0m\u001b[1;33m(\u001b[0m\u001b[1;33m)\u001b[0m\u001b[1;33m:\u001b[0m\u001b[1;33m\u001b[0m\u001b[0m\n\u001b[1;32m----> 3\u001b[1;33m         \u001b[0mL\u001b[0m \u001b[1;33m=\u001b[0m \u001b[1;33m[\u001b[0m\u001b[0mx\u001b[0m \u001b[1;32mfor\u001b[0m \u001b[0mx\u001b[0m \u001b[1;32min\u001b[0m \u001b[0mL\u001b[0m\u001b[1;33m]\u001b[0m\u001b[1;33m\u001b[0m\u001b[0m\n\u001b[0m\u001b[0;32m      4\u001b[0m         \u001b[0mprint\u001b[0m\u001b[1;33m(\u001b[0m\u001b[0mL\u001b[0m\u001b[1;33m)\u001b[0m\u001b[1;33m\u001b[0m\u001b[0m\n\u001b[0;32m      5\u001b[0m     \u001b[0mg\u001b[0m\u001b[1;33m(\u001b[0m\u001b[1;33m)\u001b[0m\u001b[1;33m\u001b[0m\u001b[0m\n",
      "\u001b[1;31mUnboundLocalError\u001b[0m: local variable 'L' referenced before assignment"
     ]
    }
   ],
   "source": [
    "def f(L):\n",
    "    def g(): \n",
    "        L = [x for x in L] \n",
    "        print(L)\n",
    "    g()\n",
    "    print(L)\n",
    "print(f([1,2,3]))"
   ]
  },
  {
   "cell_type": "code",
   "execution_count": 18,
   "metadata": {
    "scrolled": true
   },
   "outputs": [
    {
     "name": "stdout",
     "output_type": "stream",
     "text": [
      "[2, 2, 3]\n",
      "[2, 2, 3]\n",
      "None\n"
     ]
    }
   ],
   "source": [
    "def f(L):\n",
    "    def g(): \n",
    "        L[0] = L[0] + 1 #L本身没有被修改，但是L指向的list却被内层函数修改了！list变量很特殊\n",
    "        print(L)\n",
    "    g()\n",
    "    print(L)\n",
    "print(f([1,2,3]))"
   ]
  },
  {
   "cell_type": "markdown",
   "metadata": {},
   "source": [
    "**list是可变类型（Mutable），对list来说，赋值（binding）和修改是两个不一样的概念。**"
   ]
  },
  {
   "cell_type": "markdown",
   "metadata": {},
   "source": [
    "### 编码 b'' r''  u''\n",
    "\n",
    "- 由于Python的字符串类型是str，在内存中以Unicode表示，一个字符对应若干个字节。如果要在网络上传输，或者保存到磁盘上，就需要把str变为以字节为单位的bytes。\n",
    "\n",
    "- Python对bytes类型的数据用带b前缀的单引号或双引号表示"
   ]
  },
  {
   "cell_type": "code",
   "execution_count": 73,
   "metadata": {},
   "outputs": [
    {
     "data": {
      "text/plain": [
       "('/path/to/file', '.txt')"
      ]
     },
     "execution_count": 73,
     "metadata": {},
     "output_type": "execute_result"
    }
   ],
   "source": [
    "os.path.splitext('/path/to/file.txt')"
   ]
  },
  {
   "cell_type": "code",
   "execution_count": 31,
   "metadata": {},
   "outputs": [
    {
     "data": {
      "text/plain": [
       "b'ABC'"
      ]
     },
     "execution_count": 31,
     "metadata": {},
     "output_type": "execute_result"
    }
   ],
   "source": [
    "'ABC'.encode('ascii') #按byte存储的英文"
   ]
  },
  {
   "cell_type": "code",
   "execution_count": 23,
   "metadata": {},
   "outputs": [
    {
     "data": {
      "text/plain": [
       "b'ABC'"
      ]
     },
     "execution_count": 23,
     "metadata": {},
     "output_type": "execute_result"
    }
   ],
   "source": [
    "'ABC'.encode('utf-8')"
   ]
  },
  {
   "cell_type": "code",
   "execution_count": 25,
   "metadata": {},
   "outputs": [
    {
     "data": {
      "text/plain": [
       "b'\\xe4\\xb8\\xad\\xe6\\x96\\x87'"
      ]
     },
     "execution_count": 25,
     "metadata": {},
     "output_type": "execute_result"
    }
   ],
   "source": [
    "'中文'.encode('utf-8') #按Byte存储的中文"
   ]
  },
  {
   "cell_type": "code",
   "execution_count": 32,
   "metadata": {},
   "outputs": [
    {
     "data": {
      "text/plain": [
       "'中文'"
      ]
     },
     "execution_count": 32,
     "metadata": {},
     "output_type": "execute_result"
    }
   ],
   "source": [
    "b'\\xe4\\xb8\\xad\\xe6\\x96\\x87'.decode('utf-8') #bytes形式的中文，需要解码"
   ]
  },
  {
   "cell_type": "code",
   "execution_count": 34,
   "metadata": {},
   "outputs": [
    {
     "data": {
      "text/plain": [
       "'中文'"
      ]
     },
     "execution_count": 34,
     "metadata": {},
     "output_type": "execute_result"
    }
   ],
   "source": [
    "'\\u4e2d\\u6587' #unicode"
   ]
  },
  {
   "cell_type": "code",
   "execution_count": 35,
   "metadata": {},
   "outputs": [
    {
     "name": "stdout",
     "output_type": "stream",
     "text": [
      "C:\\some\n",
      "ame\n",
      "C:\\some\\name\n"
     ]
    }
   ],
   "source": [
    "print('C:\\some\\name')#\\n转意字符\n",
    "print(r'C:\\some\\name') # r'' 不进行转义"
   ]
  },
  {
   "cell_type": "code",
   "execution_count": 41,
   "metadata": {},
   "outputs": [
    {
     "name": "stdout",
     "output_type": "stream",
     "text": [
      "Usage: thingy [OPTIONS]\n",
      "     -h                        Display this usage message\n",
      "     -H hostname               Hostname to connect to\n",
      "\n"
     ]
    }
   ],
   "source": [
    "print(\"\"\"\\\n",
    "Usage: thingy [OPTIONS]\n",
    "     -h                        Display this usage message\n",
    "     -H hostname               Hostname to connect to\n",
    "\"\"\")"
   ]
  },
  {
   "cell_type": "markdown",
   "metadata": {
    "collapsed": true
   },
   "source": [
    "### 正则表达式 Regular Expression\n",
    "\n",
    "正则表达式是对字符串的一些规则，其目的在于检测字符串是否满足这些规则。\n",
    "\n",
    "利用正则表达式这种描述性的语言来给字符串定义一个规则，凡是符合规则的字符串，就认为它“匹配”了，否则，该字符串就是不合法的。\n",
    "\n",
    "- '`\\d`'表示一个数字， '`\\d\\d\\d`'表示三个数字；\n",
    "\n",
    "- '`\\w`' 表示一个字母或数字， '`\\w\\w\\d`' 表示两个字母或数字以及一个数字；\n",
    "\n",
    "- '`s`'表示一个白空格；\n",
    "\n",
    "- '`.`'表示一个任意字符；\n",
    "\n",
    "此外还可以匹配边长的字符，即对字符长度也需要进行匹配：\n",
    "- '`*`'表示任意数量个字符（包含零个）；\n",
    "\n",
    "- '`+`'表示至少一个；\n",
    "\n",
    "- '`?`'表示零个或一个；\n",
    "\n",
    "- '`{n}`'表示n个；\n",
    "\n",
    "- '`{n,m}`'表示n至m个；\n",
    "\n",
    "`\\d{3}\\s+\\d{3,8}`表示3个数字 + 至少一个白空格 + 3到8个数字；\n",
    "\n",
    "`\\d{3}\\-\\d{3,8}`表示3个数字 + 一个 ‘-’  + 3到8个数字；\n",
    "\n",
    "**需要使用re模块中的match来判断字符串是否匹配某个正则表达式。**"
   ]
  },
  {
   "cell_type": "code",
   "execution_count": 10,
   "metadata": {},
   "outputs": [
    {
     "name": "stdout",
     "output_type": "stream",
     "text": [
      "<_sre.SRE_Match object; span=(0, 12), match='028-85191466'> True\n"
     ]
    }
   ],
   "source": [
    "import re\n",
    "print(re.match(r'\\d{3}\\-\\d{3,8}','028-85191466'),bool(re.match(r'\\d{3}\\-\\d{3,8}','028-85191466')))"
   ]
  },
  {
   "cell_type": "code",
   "execution_count": 12,
   "metadata": {},
   "outputs": [
    {
     "name": "stdout",
     "output_type": "stream",
     "text": [
      "None False\n"
     ]
    }
   ],
   "source": [
    "print(re.match(r'\\d{3}\\s+\\d{3,8}','028  -   85191466'),bool(re.match(r'\\d{3}\\s+\\d{3,8}','028  -   85191466')))"
   ]
  },
  {
   "cell_type": "markdown",
   "metadata": {},
   "source": [
    "更精确的匹配需要使用'`[]`'\n",
    "\n",
    "- '`[0-9a-zA-Z\\_]`' 可以匹配一个数字、字母或者下划线\n",
    "- '`[a-zA-Z\\_][0-9a-zA-Z\\_]`'*可以匹配由字母或下划线开头，后接任意个由一个数字、字母或者下划线组成的字符串，也就是Python合法的变量；'`[\\w\\s]`'表示一个数字字母或者白空格\n",
    "- '`|`'表示或者 '`A|B`'表示匹配A或B\n",
    "- '`^`' 表示行的开头\n",
    "- '`$`' 表示行的结束"
   ]
  },
  {
   "cell_type": "code",
   "execution_count": 17,
   "metadata": {
    "scrolled": true
   },
   "outputs": [
    {
     "name": "stdout",
     "output_type": "stream",
     "text": [
      "False\n",
      "True\n"
     ]
    }
   ],
   "source": [
    "print(bool(re.match(r'[02468]','5')))\n",
    "print(bool(re.match(r'[02468]','2')))"
   ]
  },
  {
   "cell_type": "markdown",
   "metadata": {},
   "source": [
    "### 正则表达式在切分字符串中也发挥着作用。\n",
    "\n",
    "sring.split() -> re.split()"
   ]
  },
  {
   "cell_type": "code",
   "execution_count": 20,
   "metadata": {},
   "outputs": [
    {
     "data": {
      "text/plain": [
       "['a', 'b', 'c', 'd']"
      ]
     },
     "execution_count": 20,
     "metadata": {},
     "output_type": "execute_result"
    }
   ],
   "source": [
    "re.split(r'[\\s\\,]+', 'a,b, c  d')"
   ]
  },
  {
   "cell_type": "code",
   "execution_count": 21,
   "metadata": {},
   "outputs": [
    {
     "data": {
      "text/plain": [
       "['a', 'b', 'c', 'd']"
      ]
     },
     "execution_count": 21,
     "metadata": {},
     "output_type": "execute_result"
    }
   ],
   "source": [
    "re.split(r'[\\s\\,\\;]+', 'a,b;; c  d')"
   ]
  },
  {
   "cell_type": "markdown",
   "metadata": {},
   "source": [
    "### （）分组\n",
    "正则表达式不仅能判断一个字符串是否匹配，还能从字符串中提取出特定的一段子串。"
   ]
  },
  {
   "cell_type": "code",
   "execution_count": 23,
   "metadata": {},
   "outputs": [
    {
     "name": "stdout",
     "output_type": "stream",
     "text": [
      "010-12345 010 12345\n",
      "('010', '12345')\n"
     ]
    }
   ],
   "source": [
    "m = re.match(r'^(\\d{3})-(\\d{3,8})$', '010-12345')\n",
    "print(m.group(0),m.group(1),m.group(2))\n",
    "print(m.groups())"
   ]
  },
  {
   "cell_type": "code",
   "execution_count": 25,
   "metadata": {},
   "outputs": [
    {
     "data": {
      "text/plain": [
       "('19', '05', '30')"
      ]
     },
     "execution_count": 25,
     "metadata": {},
     "output_type": "execute_result"
    }
   ],
   "source": [
    "# 24小时制 的时分秒提取\n",
    "t = '19:05:30'\n",
    "m = re.match(r'^(0[0-9]|1[0-9]|2[0-3]|[0-9])\\:(0[0-9]|1[0-9]|2[0-9]|3[0-9]|4[0-9]|5[0-9]|[0-9])\\:(0[0-9]|1[0-9]|2[0-9]|3[0-9]|4[0-9]|5[0-9]|[0-9])$', t)\n",
    "m.groups()"
   ]
  },
  {
   "cell_type": "code",
   "execution_count": 31,
   "metadata": {},
   "outputs": [
    {
     "data": {
      "text/plain": [
       "('102300', '')"
      ]
     },
     "execution_count": 31,
     "metadata": {},
     "output_type": "execute_result"
    }
   ],
   "source": [
    "# 前面的\\d+会尽可能多的匹配\n",
    "re.match(r'^(\\d+)(0?)$', '102300').groups()"
   ]
  },
  {
   "cell_type": "code",
   "execution_count": 32,
   "metadata": {},
   "outputs": [
    {
     "data": {
      "text/plain": [
       "('10230', '0')"
      ]
     },
     "execution_count": 32,
     "metadata": {},
     "output_type": "execute_result"
    }
   ],
   "source": [
    "# 前面的\\d+会尽可能多的匹配\n",
    "re.match(r'^(\\d+)(0+)$', '102300').groups()"
   ]
  },
  {
   "cell_type": "markdown",
   "metadata": {},
   "source": [
    "### 取出带名字的Email地址"
   ]
  },
  {
   "cell_type": "code",
   "execution_count": 41,
   "metadata": {},
   "outputs": [
    {
     "data": {
      "text/plain": [
       "('Tom Paris', 'tom', 'voyager.o')"
      ]
     },
     "execution_count": 41,
     "metadata": {},
     "output_type": "execute_result"
    }
   ],
   "source": [
    "#<Tom Paris> tom@voyager.org => Tom Paris\n",
    "#bob@example.com => bob\n",
    "#tom@voyager.org => 'tom'\n",
    "\n",
    "re_emailaddr = re.compile(r'<?([\\w\\s]*)>?\\s?([\\w\\.]*)\\@([\\w]+\\.[org|cn|com])')\n",
    "re_emailaddr.match('<Tom Paris> tom@voyager.org').groups()"
   ]
  },
  {
   "cell_type": "code",
   "execution_count": 43,
   "metadata": {},
   "outputs": [
    {
     "data": {
      "text/plain": [
       "('bob', '', 'example.c')"
      ]
     },
     "execution_count": 43,
     "metadata": {},
     "output_type": "execute_result"
    }
   ],
   "source": [
    "re_emailaddr.match('bob@example.com').groups()"
   ]
  },
  {
   "cell_type": "code",
   "execution_count": 44,
   "metadata": {},
   "outputs": [
    {
     "data": {
      "text/plain": [
       "('tom', '', 'voyager.o')"
      ]
     },
     "execution_count": 44,
     "metadata": {},
     "output_type": "execute_result"
    }
   ],
   "source": [
    "re_emailaddr.match('tom@voyager.org').groups()"
   ]
  },
  {
   "cell_type": "markdown",
   "metadata": {},
   "source": [
    "### 数据库\n",
    "\n",
    "关系型数据库和非关系型数据库（NoSQL）\n",
    "\n",
    "免费的开源关系型数据库：\n",
    "\n",
    "    1. MySQL，大家都在用，一般错不了；\n",
    "\n",
    "    2. PostgreSQL，学术气息有点重，其实挺不错，但知名度没有MySQL高；\n",
    "\n",
    "    3. sqlite，嵌入式数据库，适合桌面和移动应用。\n",
    "\n",
    "SQL-Structured Query Language SQL语句以后多少都用得上的。"
   ]
  },
  {
   "cell_type": "markdown",
   "metadata": {},
   "source": [
    "### 基本SQL语句\n",
    "\n",
    "SQL 中最重要的** DDL （ 数据定义语言）**语句: \n",
    "\n",
    "- CREATE DATABASE - 创建新数据库 \n",
    "\n",
    "- ALTER DATABASE - 修改数据库 \n",
    "\n",
    "- CREATE TABLE - 创建新表 \n",
    "\n",
    "- ALTER TABLE - 变更（改变）数据库表 \n",
    "\n",
    "- DROP TABLE - 删除表 \n",
    "\n",
    "- CREATE INDEX - 创建索引（搜索键） \n",
    "\n",
    "- DROP INDEX - 删除索引\n",
    "\n",
    "SQL 的** DML （数据操作语言）**部分： \n",
    "- SELECT - 从数据库表中获取数据 \n",
    "\n",
    "- UPDATE - 更新数据库表中的数据 \n",
    "\n",
    "- DELETE - 从数据库表中删除数据 \n",
    "\n",
    "- INSERT INTO - 向数据库表中插入数据\n",
    "\n",
    "\n",
    "> SELECT first_name, last_name FROM employees WHERE salary > 100000\n",
    "\n",
    "上面就是一句SQL语句，表示从 employees表中选择salary > 100000的人的 first_name, last_name。\n",
    "其中SELECT、FROM和WHERE都是SQL关键词，其他的都是表的名字或者属性的名字。\n",
    "- select \n",
    "\n",
    ">SELECT 列名称 FROM 表名称 WHERE 列 运算符 值\n",
    "\n",
    "- 排序 DESC降序\n",
    "\n",
    "> SELECT Company, OrderNumber FROM Orders ORDER BY Company DESC\n",
    "\n",
    "- and 和 or\n",
    "\n",
    "> SELECT * FROM Persons WHERE FirstName='Thomas' AND LastName='Carter'\n",
    "\n",
    "- update\n",
    "\n",
    "> UPDATE 表名称 SET 列名称 = 新值 WHERE 列名称 = 某值\n",
    "\n",
    "- DELETE\n",
    "\n",
    ">DELETE FROM 表名称 WHERE 列名称 = 值\n",
    "\n",
    "- CREATE\n",
    ">REATE DATABASE database_name\n",
    "\n",
    ">CREATE TABLE Persons<br\\>\n",
    ">(<br\\>\n",
    ">Id_P int NOT NULL UNIQUE,<br\\>\n",
    ">LastName varchar(255) NOT NULL,<br\\>\n",
    ">FirstName varchar(255),<br\\>\n",
    ">Address varchar(255),<br\\>\n",
    ">City varchar(255)<br\\>\n",
    ">)<br\\>\n",
    "\n",
    "- ALTER 改变表中列的约束\n",
    "\n",
    ">ALTER TABLE Persons<br\\>\n",
    ">ADD UNIQUE (Id_P)"
   ]
  },
  {
   "cell_type": "markdown",
   "metadata": {},
   "source": [
    "### SQLite\n",
    "SQLite是一种嵌入式数据库，它的数据库就是一个文件。由于SQLite本身是C写的，而且体积很小，所以，经常被集成到各种应用程序中，甚至在iOS和Android的App中都可以集成。\n",
    "\n",
    "Python就内置了SQLite3，所以，在Python中使用SQLite，不需要安装任何东西，直接使用。\n",
    "\n",
    "要操作关系数据库，首先需要连接到数据库，一个数据库连接称为Connection；\n",
    "\n",
    "连接到数据库后，需要打开游标，称之为Cursor，通过Cursor执行SQL语句，然后，获得执行结果。"
   ]
  },
  {
   "cell_type": "code",
   "execution_count": 10,
   "metadata": {
    "collapsed": true
   },
   "outputs": [],
   "source": [
    "# 导入SQLite驱动:\n",
    "import sqlite3\n",
    "# 连接到SQLite数据库\n",
    "# 数据库文件是test.db\n",
    "# 如果文件不存在，会自动在当前目录创建:\n",
    "conn = sqlite3.connect('test.db')\n",
    "# 创建一个Cursor:\n",
    "cursor = conn.cursor()\n",
    "# 执行一条SQL语句，创建user表:\n",
    "#cursor.execute('drop table user')\n",
    "cursor.execute('create table user (id varchar(20) primary key, name varchar(20))')\n",
    "# 继续执行一条SQL语句，插入一条记录:\n",
    "cursor.execute('insert into user (id, name) values (\\'1\\', \\'Michael\\')')\n",
    "# 关闭Cursor:\n",
    "cursor.close()\n",
    "# 提交事务:\n",
    "conn.commit()\n",
    "# 关闭Connection:\n",
    "conn.close()"
   ]
  },
  {
   "cell_type": "code",
   "execution_count": 11,
   "metadata": {},
   "outputs": [
    {
     "name": "stdout",
     "output_type": "stream",
     "text": [
      "[('1', 'Michael')]\n"
     ]
    }
   ],
   "source": [
    "conn = sqlite3.connect('test.db')\n",
    "cursor = conn.cursor()\n",
    "# 执行查询语句:\n",
    "cursor.execute('select * from user where id=?', ('1',))\n",
    "values = cursor.fetchall()\n",
    "print(values)\n",
    "cursor.close()\n",
    "conn.close()"
   ]
  },
  {
   "cell_type": "markdown",
   "metadata": {
    "collapsed": true
   },
   "source": [
    "### MySQL\n",
    "MySQL需要去官网下载Community Server 5.6.x版本\n",
    "\n",
    "我的懒克服了一切。"
   ]
  },
  {
   "cell_type": "markdown",
   "metadata": {},
   "source": [
    "### Object-Relational Mapping ORM\n",
    "\n",
    "ORM把关系数据库的表结构映射到对象上。最有名的ORM框架是SQLAlchemy。"
   ]
  },
  {
   "cell_type": "markdown",
   "metadata": {},
   "source": [
    "----"
   ]
  },
  {
   "cell_type": "markdown",
   "metadata": {},
   "source": [
    "### 线程和进程\n",
    "\n",
    "系统的一个任务就是一个进程（Process），而一个进程可以有多个线程（Thread）。\n"
   ]
  },
  {
   "cell_type": "markdown",
   "metadata": {
    "collapsed": true
   },
   "source": [
    "### 多进程（multiprocessing）\n",
    "类Unix系统的os模块自带fork()函数。\n",
    "而windows需要使用 multiprocessing 模块。\n",
    "\n",
    "**Jupyter Notebook**不能实现多线程和多进程！！！"
   ]
  },
  {
   "cell_type": "code",
   "execution_count": null,
   "metadata": {
    "collapsed": true
   },
   "outputs": [],
   "source": [
    "from multiprocessing import Process\n",
    "import os\n",
    "\n",
    "# 子进程要执行的代码\n",
    "def run_proc(name):\n",
    "    print('Run child process %s (%s)...' % (name, os.getpid()))\n",
    "\n",
    "if __name__=='__main__':\n",
    "    print('Parent process %s.' % os.getpid())\n",
    "    p = Process(target=run_proc, args=('test',))\n",
    "    print('Child process will start.')\n",
    "    p.start()\n",
    "    p.join()\n",
    "    print('Child process end.')\n"
   ]
  },
  {
   "cell_type": "markdown",
   "metadata": {},
   "source": [
    "首先创建一个Process实例p，用p.start()方法启动,再用p.join()方法可以等待子进程结束后再继续往下运行，通常用于进程间的同步。"
   ]
  },
  {
   "cell_type": "markdown",
   "metadata": {},
   "source": [
    "### Pool\n",
    "如果要启动大量的子进程，可以用进程池的方式批量创建子进程："
   ]
  },
  {
   "cell_type": "code",
   "execution_count": null,
   "metadata": {
    "collapsed": true
   },
   "outputs": [],
   "source": [
    "from multiprocessing import Pool\n",
    "import os, time, random\n",
    "\n",
    "def long_time_task(name):\n",
    "    print('Run task %s (%s)...' % (name, os.getpid()))\n",
    "    start = time.time()\n",
    "    time.sleep(random.random() * 3)\n",
    "    end = time.time()\n",
    "    print('Task %s runs %0.2f seconds.' % (name, (end - start)))\n",
    "\n",
    "if __name__=='__main__':\n",
    "    print('Parent process %s.' % os.getpid())\n",
    "    p = Pool(4) #\n",
    "    for i in range(5):\n",
    "        p.apply_async(long_time_task, args=(i,))\n",
    "    print('Waiting for all subprocesses done...')\n",
    "    p.close()\n",
    "    p.join()\n",
    "    print('All subprocesses done.')"
   ]
  },
  {
   "cell_type": "markdown",
   "metadata": {},
   "source": [
    "### 线程 进程还挺难的，以后有空看"
   ]
  }
 ],
 "metadata": {
  "kernelspec": {
   "display_name": "Python 3",
   "language": "python",
   "name": "python3"
  },
  "language_info": {
   "codemirror_mode": {
    "name": "ipython",
    "version": 3
   },
   "file_extension": ".py",
   "mimetype": "text/x-python",
   "name": "python",
   "nbconvert_exporter": "python",
   "pygments_lexer": "ipython3",
   "version": "3.6.1"
  }
 },
 "nbformat": 4,
 "nbformat_minor": 2
}
