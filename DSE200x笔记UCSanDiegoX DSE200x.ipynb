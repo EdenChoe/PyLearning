{
 "cells": [
  {
   "cell_type": "markdown",
   "metadata": {},
   "source": [
    "# edX Python for Data Science 学习笔记\n",
    "\n",
    "UCSanDiegoX: DSE200x\n",
    "\n",
    "Python for Data Science"
   ]
  },
  {
   "cell_type": "markdown",
   "metadata": {},
   "source": [
    "## Week 1 介绍\n",
    "\n",
    "欧洲职业足球数据分析案例：\n",
    "https://www.kaggle.com/hugomathien/soccer\n",
    "\n",
    "有空可以仔细看一下"
   ]
  },
  {
   "cell_type": "markdown",
   "metadata": {},
   "source": [
    "## Week 2 Python和Unix基础\n",
    "\n",
    "### Python\n",
    "\n",
    "**Jupyter = Julia Python R**\n",
    "\n",
    "**Why Python?**\n",
    "\n",
    "Giant ecosystem of tools for connection and working with many sources of real-world data across lots of domains.\n",
    "\n",
    "Python被称为胶水语言，可以通过调用各种工具库实现很多功能。\n",
    "\n",
    "** 学会使用Git Bash，**推荐看廖雪峰的Git教程。\n",
    "\n",
    "**强类型语言和弱类型语言**：Python 不需要声明变量的类型，而C和Java需要变量类型声明。\n",
    "\n",
    "### Unix 命令行\n",
    "\n",
    "**nano** 一种linux命令行下的文本编辑器， 比Vim简单。\n",
    "\n",
    "**Unix系统和Data Science的关系**：更好的文件管理、数据处理和命令行操作\n",
    "\n",
    "**硬件、kernel、shell和程序的关系**，是从下至上的。\n",
    "\n",
    "shell是用户与kernel交互的窗口，相当于命令行解释器。\n",
    "\n",
    "在Unix系统中，所有东西都被归为文件或者过程。Everything is a file or aprocess！\n",
    "\n",
    "**绝对路径和相对路径。**\n",
    "\n",
    "相对路径需要确定现在的工作路径。一个点‘.’是指本路径。两个点‘..’是指上一级路径，波浪线‘~’是指home路径（/users）。\n",
    "\n",
    "windows路径的表示和unix不一样，一个使用反斜线一个使用正斜线。\n",
    "\n",
    "**unix常用命令：**\n",
    "\n",
    "- ls (list ls -l 详细信息 ls -a 现实隐藏文件 ls *.py 列出所有python文件)\n",
    "- cd (change directory)\n",
    "- pwd (print working directory)\n",
    "- cat (cat xxx.txt 展示txt文件的内容)\n",
    "- clear\n",
    "- mkdir (创建路径)\n",
    "- man ls (manual list 展示所有命令以及含义)\n",
    "- cp (copy 例如 cp ../xxx.py .)\n",
    "- mv (move 和剪切类型 mv ../xxx.py .)\n",
    "- more (和cat类似都可以打开.txt文件，但它会适应命令行窗口的大小，用空格翻页)\n",
    "- wc (word count, 统计字数、行数以及字母数， wc -l : 统计行数)\n",
    "\n",
    "三个重要文件描述符（file descriptor）：**stdin、stdout和stderr**。\n",
    "\n",
    "1. stdin 默认情况下是指键盘输入，用于输入；\n",
    "\n",
    "2. stdout 默认情况下是指terminal，用于输出；\n",
    "\n",
    "3. stderr 默认情况下是指terminal，用于报告错误信息；\n",
    "\n",
    "上述三种文件描述符都可以制定为任意文件，即**redirecting standard IO**。\n",
    "\n",
    "`pwd > out.txt` 这一命令将执行pwd并将本被打印到terminal的工作路径输出到out.txt中。\n",
    "\n",
    "`pwd; ls -l > out.txt `这里的分号连接的两个命令会按顺序执行，但由于结合优先级的问题，只有`ls -l`的返回值输出到了out.txt中，如需要都输入到out.txt,则需要加括号。`(pwd; ls -l) > out.txt `\n",
    "\n",
    "**unix pipe (管道？)**\n",
    "\n",
    "多个命令首尾相接形成pipe:\n",
    "\n",
    " `cat xxx.txt | wc`\n",
    "\n",
    "** 5 filter command (过滤命令？)**\n",
    "1. grep 查找\n",
    "2. more 适应命令行窗口大小的文本输出\n",
    "3. less 和more类似\n",
    "4. sort 字母表顺序排序\n",
    "5. uniq 删掉重复的\n",
    "\n",
    "`ls -la | more`   \n",
    "\n",
    "适应命令行大小的ls 命令\n",
    "\n",
    "`cat xxx.txt | wc`\n",
    "\n",
    "字数统计\n",
    "\n",
    "`cat xxx.txt | grep Apple`   \n",
    "\n",
    "仅显示xxx.txt包含‘Apple’字符串的所有行\n",
    "\n",
    "`cat xxx.txt | grep Apple | wc -l`   \n",
    "\n",
    "最终得出'‘Apple’'出现的次数\n",
    "\n",
    "** 5 个主要命令**\n",
    "1. head   ：前n行\n",
    "2. tail   ：后n行\n",
    "3. cut    ：剪切\n",
    "4. sed    ：利用正则表达式，转换格式\n",
    "5. find   ：查找\n",
    "\n",
    "利用上述的命令可以完成一些基本的数据操作，但是感觉意义不大\\笑。\n"
   ]
  },
  {
   "cell_type": "markdown",
   "metadata": {},
   "source": [
    "## Week 3\n",
    "\n",
    "**Jupyter Notebook**在数据科学中很流行，可以被用作文档记录和成果展示。且用Jupyter Notebook记录的代码很容易重现。\n",
    "\n",
    "Jupyter支持的**Julia、Python和R**是最流行的数据分析语言。\n"
   ]
  },
  {
   "cell_type": "code",
   "execution_count": 104,
   "metadata": {},
   "outputs": [
    {
     "data": {
      "text/plain": [
       "[<matplotlib.lines.Line2D at 0x1d22ce51f98>]"
      ]
     },
     "execution_count": 104,
     "metadata": {},
     "output_type": "execute_result"
    },
    {
     "data": {
      "image/png": "[encoded data removed]",
      "text/plain": [
       "<matplotlib.figure.Figure at 0x1d22c927b70>"
      ]
     },
     "metadata": {},
     "output_type": "display_data"
    }
   ],
   "source": [
    "%matplotlib inline\n",
    "import matplotlib \n",
    "matplotlib.pyplot.plot([0, 1, 0, 1])"
   ]
  },
  {
   "cell_type": "markdown",
   "metadata": {},
   "source": [
    "### Numpy —— Numerical Python\n",
    "\n",
    "1. 很好地支持多维矩阵操作；\n",
    "2. 计算速度比python自己的方法快得多；\n",
    "ndarray（Numpy的 array）比list的计算快，但ndarray的大小是固定不变的且元素只能是数。\n",
    "3. 定义了很多基础的功能；\n",
    "4. 很多常用的模块都是局域Numpy的，例如Pandas。\n",
    "\n",
    "https://docs.scipy.org/doc/numpy/reference/\n",
    "\n",
    "**教材推荐：**\n",
    "\n",
    "**Python for Data Analysis by Wes McKinney**\n",
    "\n",
    "**Python Data science Handbook by Jake VanderPlas**"
   ]
  },
  {
   "cell_type": "code",
   "execution_count": 105,
   "metadata": {},
   "outputs": [
    {
     "name": "stdout",
     "output_type": "stream",
     "text": [
      "<class 'numpy.ndarray'>\n"
     ]
    }
   ],
   "source": [
    "import numpy as np\n",
    "an_array = np.array([3, 33, 333])  # Create a rank 1 array\n",
    "print(type(an_array))              # The type of an ndarray is: \"<class 'numpy.ndarray'>\""
   ]
  },
  {
   "cell_type": "code",
   "execution_count": 106,
   "metadata": {},
   "outputs": [
    {
     "name": "stdout",
     "output_type": "stream",
     "text": [
      "(3,)\n",
      "3 33 333\n"
     ]
    }
   ],
   "source": [
    "print(an_array.shape)\n",
    "print(an_array[0], an_array[1], an_array[2]) "
   ]
  },
  {
   "cell_type": "code",
   "execution_count": 107,
   "metadata": {},
   "outputs": [
    {
     "name": "stdout",
     "output_type": "stream",
     "text": [
      "[[11 12 13]\n",
      " [21 22 23]]\n",
      "The shape is 2 rows, 3 columns:  (2, 3)\n",
      "Accessing elements [0,0], [0,1], and [1,0] of the ndarray:  11 ,  12 ,  21\n"
     ]
    }
   ],
   "source": [
    "array_2d = np.array([[11,12,13],[21,22,23]])   # Create a rank 2 array\n",
    "print(array_2d)  # print the array\n",
    "print(\"The shape is 2 rows, 3 columns: \", array_2d.shape)  # rows x columns                   \n",
    "print(\"Accessing elements [0,0], [0,1], and [1,0] of the ndarray: \", array_2d[0, 0], \", \",array_2d[0, 1],\", \", array_2d[1, 0])"
   ]
  },
  {
   "cell_type": "code",
   "execution_count": 108,
   "metadata": {},
   "outputs": [
    {
     "name": "stdout",
     "output_type": "stream",
     "text": [
      "ex1\n",
      " [[ 0.  0.]\n",
      " [ 0.  0.]]\n",
      "ex2\n",
      " [[ 9.  9.]\n",
      " [ 9.  9.]]\n",
      "ex3\n",
      " [[ 1.  0.]\n",
      " [ 0.  1.]]\n",
      "ex4\n",
      " [[ 1.  1.]]\n",
      "ex5\n",
      " [[ 0.39029968  0.38784876]\n",
      " [ 0.6221484   0.8794795 ]]\n"
     ]
    }
   ],
   "source": [
    "# create a 2x2 array of zeros\n",
    "ex1 = np.zeros((2,2))      \n",
    "print('ex1\\n',ex1)\n",
    "ex2 = np.full((2,2), 9.0) # create a 2x2 array filled with 9.0 \n",
    "print('ex2\\n',ex2) \n",
    "ex3 = np.eye(2,2)# create a 2x2 matrix with the diagonal 1s and the others 0\n",
    "print('ex3\\n',ex3)  \n",
    "ex4 = np.ones((1,2)) # create an array of ones\n",
    "print('ex4\\n',ex4)  \n",
    "ex5 = np.random.random((2,2))# create an array of random floats between 0 and 1\n",
    "print('ex5\\n',ex5)  "
   ]
  },
  {
   "cell_type": "markdown",
   "metadata": {},
   "source": [
    "### ndarray 也可进行切片\n",
    "\n",
    "**但是也python中的切片不一样，这个切片不是返回一个拷贝，而是返回一个别称（alias）。**\n",
    "\n",
    "需要拷贝ndarray时使用 ** np.array(array)**"
   ]
  },
  {
   "cell_type": "code",
   "execution_count": 109,
   "metadata": {},
   "outputs": [
    {
     "name": "stdout",
     "output_type": "stream",
     "text": [
      "an_array\n",
      " [[ 0  1  2  3  4]\n",
      " [ 5  6  7  8  9]\n",
      " [10 11 12 13 14]]\n",
      "a_slice\n",
      " [[1 2]\n",
      " [6 7]]\n"
     ]
    }
   ],
   "source": [
    "an_array = np.arange(15).reshape(3, 5)\n",
    "a_slice = an_array[:2, 1:3]\n",
    "print('an_array\\n',an_array)\n",
    "print('a_slice\\n',a_slice)"
   ]
  },
  {
   "cell_type": "code",
   "execution_count": 110,
   "metadata": {},
   "outputs": [
    {
     "name": "stdout",
     "output_type": "stream",
     "text": [
      "an_array\n",
      " [[   0 1000    2    3    4]\n",
      " [   5    6    7    8    9]\n",
      " [  10   11   12   13   14]]\n",
      "a_slice\n",
      " [[1000    2]\n",
      " [   6    7]]\n"
     ]
    }
   ],
   "source": [
    "a_slice[0, 0] = 1000\n",
    "print('an_array\\n',an_array)\n",
    "print('a_slice\\n',a_slice)"
   ]
  },
  {
   "cell_type": "code",
   "execution_count": 111,
   "metadata": {},
   "outputs": [
    {
     "name": "stdout",
     "output_type": "stream",
     "text": [
      "an_array\n",
      " [[ -20 1000    2    3    4]\n",
      " [   5  -14    7    8    9]\n",
      " [  10   11   -8   13   14]]\n"
     ]
    }
   ],
   "source": [
    "# zip函数能将两个可迭代对象组合起来\n",
    "row_indices, col_indices = [],[]\n",
    "for row,col in zip(range(an_array.shape[0]),range(an_array.shape[1])):\n",
    "    an_array[row, col]-=20\n",
    "    row_indices.append(row), col_indices.append(col)\n",
    "print('an_array\\n',an_array)"
   ]
  },
  {
   "cell_type": "code",
   "execution_count": 112,
   "metadata": {},
   "outputs": [
    {
     "name": "stdout",
     "output_type": "stream",
     "text": [
      "\n",
      "Col indices picked :  [0, 1, 2]\n",
      "\n",
      "Rows indices picked :  [0, 1, 2]\n",
      "Values in the array at those indices:  [-20 -14  -8]\n"
     ]
    }
   ],
   "source": [
    "print('\\nCol indices picked : ', col_indices)\n",
    "print('\\nRows indices picked : ', row_indices)\n",
    "print('Values in the array at those indices: ',an_array[row_indices, col_indices])"
   ]
  },
  {
   "cell_type": "markdown",
   "metadata": {},
   "source": [
    "### 求矩阵中大于5的元素"
   ]
  },
  {
   "cell_type": "code",
   "execution_count": 113,
   "metadata": {},
   "outputs": [
    {
     "name": "stdout",
     "output_type": "stream",
     "text": [
      "[[ 0  1  2  3  4]\n",
      " [ 5  6  7  8  9]\n",
      " [10 11 12 13 14]]\n"
     ]
    }
   ],
   "source": [
    "an_array = np.arange(15).reshape(3, 5)\n",
    "print(an_array)"
   ]
  },
  {
   "cell_type": "code",
   "execution_count": 114,
   "metadata": {},
   "outputs": [
    {
     "name": "stdout",
     "output_type": "stream",
     "text": [
      "[0 1 2 3 4]\n",
      "[ 1  3  5  7  9 11 13]\n"
     ]
    },
    {
     "data": {
      "text/plain": [
       "array([[ True,  True,  True,  True,  True],\n",
       "       [False, False, False, False, False],\n",
       "       [False, False, False, False, False]], dtype=bool)"
      ]
     },
     "execution_count": 114,
     "metadata": {},
     "output_type": "execute_result"
    }
   ],
   "source": [
    "print(an_array[an_array < 5])\n",
    "print(an_array[an_array % 2 ==1])\n",
    "an_array < 5"
   ]
  },
  {
   "cell_type": "markdown",
   "metadata": {},
   "source": [
    "### ndarray中的元素类型\n",
    "ndarray中的元素类型只能是bool、int32、int64、float64等，不能是string、list等，这一点和python的list不同。"
   ]
  },
  {
   "cell_type": "code",
   "execution_count": 115,
   "metadata": {},
   "outputs": [
    {
     "name": "stdout",
     "output_type": "stream",
     "text": [
      "1 int32\n",
      "2 float64\n",
      "3 int64\n",
      "4 int64\n"
     ]
    }
   ],
   "source": [
    "ex1 = np.array([11, 12]) # Python assigns the  data type\n",
    "print('1',ex1.dtype)\n",
    "ex2 = np.array([11.0, 12.0]) # Python assigns the  data type\n",
    "print('2',ex2.dtype)\n",
    "ex3 = np.array([11, 21], dtype=np.int64) #You can also tell Python the  data type\n",
    "print('3',ex3.dtype)\n",
    "ex4 = np.array([11.1,12.7], dtype=np.int64)\n",
    "print('4',ex4.dtype)"
   ]
  },
  {
   "cell_type": "markdown",
   "metadata": {},
   "source": [
    "### 元素对应 相加 相减 相乘 相除\n",
    "直接使用 array1 + array2 或者 np.add(array1, array2)"
   ]
  },
  {
   "cell_type": "markdown",
   "metadata": {},
   "source": [
    "### 求数值特征\n",
    "- array.mean()\n",
    "- array.mean(axis = 0) # 每列均值\n",
    "- array.mean(axis = 1) # 每行均值\n",
    "- array.sum() \n",
    "- numpy.median(arry,axis)"
   ]
  },
  {
   "cell_type": "markdown",
   "metadata": {},
   "source": [
    "### sort unique intersect1d  union1d setdiff1d in1d"
   ]
  },
  {
   "cell_type": "code",
   "execution_count": 116,
   "metadata": {},
   "outputs": [
    {
     "name": "stdout",
     "output_type": "stream",
     "text": [
      "[[-0.56041936 -0.97173856 -0.4770062  -1.65708192  1.15728992]\n",
      " [-1.17110478  1.07798247 -1.48919398  0.80231296  1.19857611]\n",
      " [ 0.40599925 -0.20376058  0.01312271  0.42515412 -1.15167803]\n",
      " [ 0.36929129 -0.06742691 -0.85939687  0.14613239 -2.34523355]\n",
      " [-0.64419227 -0.27837005 -0.34937359 -0.96492282  0.75492677]]\n"
     ]
    }
   ],
   "source": [
    "unsorted = np.random.randn(5,5)\n",
    "print(unsorted)"
   ]
  },
  {
   "cell_type": "code",
   "execution_count": 117,
   "metadata": {},
   "outputs": [
    {
     "name": "stdout",
     "output_type": "stream",
     "text": [
      "[[-2.34523355 -1.65708192 -1.48919398 -1.17110478 -0.97173856]\n",
      " [-1.15167803 -0.96492282 -0.85939687 -0.64419227 -0.27837005]\n",
      " [-0.56041936 -0.4770062  -0.20376058  0.14613239  0.75492677]\n",
      " [-0.34937359 -0.06742691  0.36929129  0.42515412  1.15728992]\n",
      " [ 0.01312271  0.40599925  0.80231296  1.07798247  1.19857611]]\n"
     ]
    }
   ],
   "source": [
    "# create copy and sort\n",
    "sorted_array = np.array(unsorted) ##拷贝\n",
    "sorted_array.sort(axis = 0)\n",
    "sorted_array.sort(axis = 1)\n",
    "print(sorted_array)"
   ]
  },
  {
   "cell_type": "code",
   "execution_count": 118,
   "metadata": {},
   "outputs": [
    {
     "name": "stdout",
     "output_type": "stream",
     "text": [
      "['desk' 'chair' 'bulb'] ['lamp' 'bulb' 'chair']\n",
      "['bulb' 'chair']\n",
      "['bulb' 'chair' 'desk' 'lamp']\n",
      "['desk']\n",
      "[False  True  True]\n"
     ]
    }
   ],
   "source": [
    "s1 = np.array(['desk','chair','bulb'])\n",
    "s2 = np.array(['lamp','bulb','chair'])\n",
    "print(s1, s2)\n",
    "print( np.intersect1d(s1, s2) ) \n",
    "print( np.union1d(s1, s2) )\n",
    "print( np.setdiff1d(s1, s2) )# elements in s1 that are not in s2\n",
    "print( np.in1d(s1, s2) )#which element of s1 is also in s2"
   ]
  },
  {
   "cell_type": "markdown",
   "metadata": {},
   "source": [
    "### Broadcasting:\n",
    "https://docs.scipy.org/doc/numpy-1.10.1/user/basics.broadcasting.html"
   ]
  },
  {
   "cell_type": "code",
   "execution_count": 119,
   "metadata": {},
   "outputs": [
    {
     "name": "stdout",
     "output_type": "stream",
     "text": [
      "[[ 1  3  3  6]\n",
      " [ 5  7  7 10]\n",
      " [ 9 11 11 14]]\n"
     ]
    }
   ],
   "source": [
    "arrA = np.array([[1,2,3,4],[5,6,7,8],[9,10,11,12]])\n",
    "\n",
    "arrB = [0,1,0,2]\n",
    "\n",
    "print(arrA + arrB)"
   ]
  },
  {
   "cell_type": "markdown",
   "metadata": {},
   "source": [
    "### 矩阵输出为文件"
   ]
  },
  {
   "cell_type": "code",
   "execution_count": 120,
   "metadata": {
    "collapsed": true
   },
   "outputs": [],
   "source": [
    "x = np.array([ 23.23, 24.24] )\n",
    "np.save('an_array', x)"
   ]
  },
  {
   "cell_type": "code",
   "execution_count": 121,
   "metadata": {},
   "outputs": [
    {
     "name": "stdout",
     "output_type": "stream",
     "text": [
      " 驱动器 D 中的卷没有标签。\n",
      " 卷的序列号是 68CE-FC4E\n",
      "\n",
      " D:\\OneDrive\\Jupyter\\笔记 的目录\n",
      "\n",
      "2018/02/03  20:54    <DIR>          .\n",
      "2018/02/03  20:54    <DIR>          ..\n",
      "2018/02/02  21:47    <DIR>          .ipynb_checkpoints\n",
      "2018/02/03  20:54                96 an_array.npy\n",
      "2018/02/03  20:36                50 array.txt\n",
      "2018/02/03  20:54            42,814 DSE200x笔记.ipynb\n",
      "2018/02/02  19:19            15,957 Jupyter Note Book 和 Markdown 的食用方法.ipynb\n",
      "2018/01/25  15:04             3,476 Py Problem Set.ipynb\n",
      "2018/02/03  11:31            52,047 Pylearning 2 liaoxuefeng 后半部分.ipynb\n",
      "2018/01/29  15:05            65,237 PyLearning Liaoxuefeng教程笔记.ipynb\n",
      "2018/02/02  19:17            49,349 Python 教材笔记.ipynb\n",
      "               8 个文件        229,026 字节\n",
      "               3 个目录 12,710,572,032 可用字节\n"
     ]
    }
   ],
   "source": [
    "! dir"
   ]
  },
  {
   "cell_type": "code",
   "execution_count": 122,
   "metadata": {},
   "outputs": [
    {
     "data": {
      "text/plain": [
       "array([ 23.23,  24.24])"
      ]
     },
     "execution_count": 122,
     "metadata": {},
     "output_type": "execute_result"
    }
   ],
   "source": [
    "np.load('an_array.npy')"
   ]
  },
  {
   "cell_type": "code",
   "execution_count": 123,
   "metadata": {
    "collapsed": true
   },
   "outputs": [],
   "source": [
    "np.savetxt('array.txt', X=x, delimiter=',')"
   ]
  },
  {
   "cell_type": "code",
   "execution_count": 124,
   "metadata": {
    "collapsed": true
   },
   "outputs": [],
   "source": [
    "! array.txt"
   ]
  },
  {
   "cell_type": "code",
   "execution_count": 125,
   "metadata": {},
   "outputs": [
    {
     "data": {
      "text/plain": [
       "array([ 23.23,  24.24])"
      ]
     },
     "execution_count": 125,
     "metadata": {},
     "output_type": "execute_result"
    }
   ],
   "source": [
    "np.loadtxt('array.txt', delimiter=',')"
   ]
  },
  {
   "cell_type": "markdown",
   "metadata": {},
   "source": [
    "### 内积 点积"
   ]
  },
  {
   "cell_type": "code",
   "execution_count": 126,
   "metadata": {},
   "outputs": [
    {
     "name": "stdout",
     "output_type": "stream",
     "text": [
      "[[4 4]\n",
      " [4 4]]\n",
      "\n",
      "[[4 4]\n",
      " [4 4]]\n"
     ]
    }
   ],
   "source": [
    "# determine the dot product of two matrices\n",
    "x2d = np.array([[1,1],[1,1]])\n",
    "y2d = np.array([[2,2],[2,2]])\n",
    "\n",
    "print(x2d.dot(y2d))\n",
    "print()\n",
    "print(np.dot(x2d, y2d))"
   ]
  },
  {
   "cell_type": "code",
   "execution_count": 127,
   "metadata": {},
   "outputs": [
    {
     "name": "stdout",
     "output_type": "stream",
     "text": [
      "180\n",
      "\n",
      "180\n"
     ]
    }
   ],
   "source": [
    "# determine the inner product of two vectors\n",
    "a1d = np.array([9 , 9 ])\n",
    "b1d = np.array([10, 10])\n",
    "\n",
    "print(a1d.dot(b1d))\n",
    "print()\n",
    "print(np.dot(a1d, b1d))"
   ]
  },
  {
   "cell_type": "code",
   "execution_count": 128,
   "metadata": {},
   "outputs": [
    {
     "name": "stdout",
     "output_type": "stream",
     "text": [
      "[18 18]\n",
      "\n",
      "[18 18]\n"
     ]
    }
   ],
   "source": [
    "# dot produce on an array and vector\n",
    "print(x2d.dot(a1d))\n",
    "print()\n",
    "print(np.dot(x2d, a1d))"
   ]
  },
  {
   "cell_type": "markdown",
   "metadata": {},
   "source": [
    "### Element-wise Maximum"
   ]
  },
  {
   "cell_type": "code",
   "execution_count": 129,
   "metadata": {},
   "outputs": [
    {
     "name": "stdout",
     "output_type": "stream",
     "text": [
      "[-0.85551245  1.09083836  0.57721634  1.5703245   0.52657466  0.19779708\n",
      "  0.22624809 -2.9112137 ] \n",
      " [ 0.92959917 -0.63656568 -0.00178588  0.17585728  0.04833631  1.07710887\n",
      " -0.1867494  -0.83619651] \n",
      " [ 0.92959917  1.09083836  0.57721634  1.5703245   0.52657466  1.07710887\n",
      "  0.22624809 -0.83619651]\n"
     ]
    }
   ],
   "source": [
    "x = np.random.randn(8)\n",
    "y = np.random.randn(8)\n",
    "print(x,'\\n',y,'\\n',np.maximum(x, y))"
   ]
  },
  {
   "cell_type": "markdown",
   "metadata": {},
   "source": [
    "### Reshape 和Matlab一样"
   ]
  },
  {
   "cell_type": "markdown",
   "metadata": {},
   "source": [
    "### 转置 "
   ]
  },
  {
   "cell_type": "code",
   "execution_count": 130,
   "metadata": {},
   "outputs": [
    {
     "data": {
      "text/plain": [
       "array([[11, 21],\n",
       "       [12, 22]])"
      ]
     },
     "execution_count": 130,
     "metadata": {},
     "output_type": "execute_result"
    }
   ],
   "source": [
    "ex1 = np.array([[11,12],[21,22]])\n",
    "ex1.T"
   ]
  },
  {
   "cell_type": "markdown",
   "metadata": {},
   "source": [
    "### where"
   ]
  },
  {
   "cell_type": "code",
   "execution_count": 131,
   "metadata": {},
   "outputs": [
    {
     "data": {
      "text/plain": [
       "array([[False,  True, False,  True,  True],\n",
       "       [False, False,  True,  True,  True],\n",
       "       [False,  True, False,  True, False],\n",
       "       [False, False, False, False, False],\n",
       "       [False, False, False, False, False]], dtype=bool)"
      ]
     },
     "execution_count": 131,
     "metadata": {},
     "output_type": "execute_result"
    }
   ],
   "source": [
    "mat = np.random.rand(5,5)\n",
    "mat > 0.5"
   ]
  },
  {
   "cell_type": "code",
   "execution_count": 132,
   "metadata": {},
   "outputs": [
    {
     "data": {
      "text/plain": [
       "array([[  -1, 1000,   -1, 1000, 1000],\n",
       "       [  -1,   -1, 1000, 1000, 1000],\n",
       "       [  -1, 1000,   -1, 1000,   -1],\n",
       "       [  -1,   -1,   -1,   -1,   -1],\n",
       "       [  -1,   -1,   -1,   -1,   -1]])"
      ]
     },
     "execution_count": 132,
     "metadata": {},
     "output_type": "execute_result"
    }
   ],
   "source": [
    "np.where( mat > 0.5, 1000, -1) #True就1000，False就-1"
   ]
  },
  {
   "cell_type": "code",
   "execution_count": 133,
   "metadata": {},
   "outputs": [
    {
     "name": "stdout",
     "output_type": "stream",
     "text": [
      "[ 1 22  3 44  5]\n"
     ]
    }
   ],
   "source": [
    "x_1 = np.array([1,2,3,4,5])\n",
    "y_1 = np.array([11,22,33,44,55])\n",
    "boolarray = np.array([True, False, True, False, True])\n",
    "out = np.where(boolarray, x_1, y_1)\n",
    "print(out)"
   ]
  },
  {
   "cell_type": "markdown",
   "metadata": {},
   "source": [
    "### all any"
   ]
  },
  {
   "cell_type": "code",
   "execution_count": 134,
   "metadata": {
    "collapsed": true
   },
   "outputs": [],
   "source": [
    "arr_bools = np.array([ True, False, True, True, False ])"
   ]
  },
  {
   "cell_type": "code",
   "execution_count": 135,
   "metadata": {},
   "outputs": [
    {
     "data": {
      "text/plain": [
       "True"
      ]
     },
     "execution_count": 135,
     "metadata": {},
     "output_type": "execute_result"
    }
   ],
   "source": [
    "arr_bools.any()"
   ]
  },
  {
   "cell_type": "code",
   "execution_count": 136,
   "metadata": {},
   "outputs": [
    {
     "data": {
      "text/plain": [
       "False"
      ]
     },
     "execution_count": 136,
     "metadata": {},
     "output_type": "execute_result"
    }
   ],
   "source": [
    "arr_bools.all()"
   ]
  },
  {
   "cell_type": "markdown",
   "metadata": {},
   "source": [
    "### Numpy 随机数产生"
   ]
  },
  {
   "cell_type": "code",
   "execution_count": 138,
   "metadata": {},
   "outputs": [
    {
     "data": {
      "text/plain": [
       "array([ 1.76437702, -0.4888876 ,  1.78572044, -1.01413868])"
      ]
     },
     "execution_count": 138,
     "metadata": {},
     "output_type": "execute_result"
    }
   ],
   "source": [
    "np.random.normal(size=4) #normal distribution"
   ]
  },
  {
   "cell_type": "code",
   "execution_count": 139,
   "metadata": {},
   "outputs": [
    {
     "data": {
      "text/plain": [
       "array([ 0.08763398,  0.75521327,  0.63622516,  0.20059802])"
      ]
     },
     "execution_count": 139,
     "metadata": {},
     "output_type": "execute_result"
    }
   ],
   "source": [
    "np.random.uniform(size=4) #uniform distribution"
   ]
  },
  {
   "cell_type": "code",
   "execution_count": 141,
   "metadata": {},
   "outputs": [
    {
     "name": "stdout",
     "output_type": "stream",
     "text": [
      "[19 43 20 39]\n"
     ]
    }
   ],
   "source": [
    "Z = np.random.randint(low=2,high=50,size=4)\n",
    "print(Z)"
   ]
  },
  {
   "cell_type": "markdown",
   "metadata": {},
   "source": [
    "### 矩阵拼接"
   ]
  },
  {
   "cell_type": "code",
   "execution_count": 142,
   "metadata": {},
   "outputs": [
    {
     "name": "stdout",
     "output_type": "stream",
     "text": [
      "[[45 35]\n",
      " [32  7]]\n",
      "\n",
      "[[ 7 21]\n",
      " [17  7]]\n"
     ]
    }
   ],
   "source": [
    "K = np.random.randint(low=2,high=50,size=(2,2))\n",
    "print(K)\n",
    "\n",
    "print()\n",
    "M = np.random.randint(low=2,high=50,size=(2,2))\n",
    "print(M)"
   ]
  },
  {
   "cell_type": "code",
   "execution_count": 143,
   "metadata": {},
   "outputs": [
    {
     "data": {
      "text/plain": [
       "array([[45, 35],\n",
       "       [32,  7],\n",
       "       [ 7, 21],\n",
       "       [17,  7]])"
      ]
     },
     "execution_count": 143,
     "metadata": {},
     "output_type": "execute_result"
    }
   ],
   "source": [
    "np.vstack((K,M))"
   ]
  },
  {
   "cell_type": "code",
   "execution_count": 144,
   "metadata": {},
   "outputs": [
    {
     "data": {
      "text/plain": [
       "array([[45, 35,  7, 21],\n",
       "       [32,  7, 17,  7]])"
      ]
     },
     "execution_count": 144,
     "metadata": {},
     "output_type": "execute_result"
    }
   ],
   "source": [
    "np.hstack((K,M))"
   ]
  },
  {
   "cell_type": "code",
   "execution_count": 145,
   "metadata": {},
   "outputs": [
    {
     "data": {
      "text/plain": [
       "array([[45, 35],\n",
       "       [32,  7],\n",
       "       [ 7, 21],\n",
       "       [17,  7]])"
      ]
     },
     "execution_count": 145,
     "metadata": {},
     "output_type": "execute_result"
    }
   ],
   "source": [
    "np.concatenate([K, M], axis = 0)"
   ]
  },
  {
   "cell_type": "code",
   "execution_count": 146,
   "metadata": {},
   "outputs": [
    {
     "data": {
      "text/plain": [
       "array([[45, 35,  7, 17],\n",
       "       [32,  7, 21,  7]])"
      ]
     },
     "execution_count": 146,
     "metadata": {},
     "output_type": "execute_result"
    }
   ],
   "source": [
    "np.concatenate([K, M.T], axis = 1)"
   ]
  },
  {
   "cell_type": "code",
   "execution_count": null,
   "metadata": {
    "collapsed": true
   },
   "outputs": [],
   "source": []
  }
 ],
 "metadata": {
  "kernelspec": {
   "display_name": "Python 3",
   "language": "python",
   "name": "python3"
  },
  "language_info": {
   "codemirror_mode": {
    "name": "ipython",
    "version": 3
   },
   "file_extension": ".py",
   "mimetype": "text/x-python",
   "name": "python",
   "nbconvert_exporter": "python",
   "pygments_lexer": "ipython3",
   "version": "3.6.1"
  }
 },
 "nbformat": 4,
 "nbformat_minor": 2
}
