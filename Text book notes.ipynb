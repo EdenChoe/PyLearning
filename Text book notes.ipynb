{
 "cells": [
  {
   "cell_type": "markdown",
   "metadata": {},
   "source": [
    "# Python学习笔记 —— 教材的笔记\n",
    "\n",
    "教材： Introduction to Computation and Programing Using Python \n",
    "\n",
    "作者：John V. Guttag\n",
    "\n",
    "edx课程：https://courses.edx.org/courses/course-v1:MITx+6.00.1x+2T2017_2/course/"
   ]
  },
  {
   "cell_type": "markdown",
   "metadata": {},
   "source": [
    "###  Turing completeness 图灵完备性\n",
    "\n",
    "- Church-Turing thesis\n",
    "\n",
    "这是一项计算机理论基础，它定义了一问题是否是**可计算**的，即程序代码能实现的功能是有限的，不是所有问题都是**可计算**的。\n",
    "\n",
    "图灵证明了停止问题（Halting Problem）是不**可计算**的。停止问题是指判断一段程序是会一直执行下去，还是会在某个时间后停止。\n",
    "\n",
    "- Universal Turing Machine\n",
    "\n",
    "通用图灵机是一种能解决所有**可计算**问题的简陋计算机，虽然仅能利用纸带进行基本操作。\n",
    "\n",
    "- Turing completeness\n",
    "\n",
    "图灵完备性是指编程语言是否有能力描述所有**可计算**的问题。"
   ]
  },
  {
   "cell_type": "markdown",
   "metadata": {},
   "source": [
    "###  Syntax, Static semantics, Semantics \n",
    "\n",
    "- Syntax 语法\n",
    "\n",
    "语法决定了一段代码是否是在语法是合理的，即是否满足基本的语法规则，若出现语法错误，python解释器会在执行前检查语法错误。例如，‘x = ’，‘x y’，‘x = y + ’，‘x = ( x '。\n",
    "\n",
    "- Static semantics 静态语义\n",
    "\n",
    "语法上正确的代码不一定有明确的意义，比如12/'abc'。语法检查过程不会发现这些错误，而Python对执行前的静态语义检查，没被检查出来的静态语义错误将在执行过程中报错。\n",
    "\n",
    "weak static semantic checking 是python的一大特点。\n",
    "\n",
    "- Semantics 语义\n",
    "\n",
    "语法上和静态语义上都正确的代码若能正确的反应程序员想达到的目的，那么这段代码在语义上也是正确的。若代码执行解决和程序员期望不一致，那么这段代码就有语义错误。\n",
    "\n"
   ]
  },
  {
   "cell_type": "markdown",
   "metadata": {
    "collapsed": true
   },
   "source": [
    "### 解释型语言和编译型语言\n",
    "\n",
    "- 解释型（Python, Matlab）\n",
    "\n",
    "运行速度慢、占空间，而且代码不能加密。如果要发布你的Python程序，实际上就是发布源代码。优点是便于debug。\n",
    "\n",
    "- 编译型（C）\n",
    "\n",
    "运行快、占空间少。"
   ]
  },
  {
   "cell_type": "markdown",
   "metadata": {
    "collapsed": true
   },
   "source": [
    "### 标量和非标量（Scalar and None-Scalar）\n",
    "\n",
    "标量不可分没有内部结构。\n",
    "\n",
    "非标量可分且有内部结构。\n"
   ]
  },
  {
   "cell_type": "markdown",
   "metadata": {
    "collapsed": true
   },
   "source": [
    "### Indentation 缩进 \n",
    "\n",
    "Python 使用缩进的方式决定一行代码属于哪个代码块或是哪个程序体。下面程序要是进行任何缩进将会形成语法错误。"
   ]
  },
  {
   "cell_type": "code",
   "execution_count": 7,
   "metadata": {},
   "outputs": [
    {
     "name": "stdout",
     "output_type": "stream",
     "text": [
      "Even\n",
      "Done with conditional\n"
     ]
    }
   ],
   "source": [
    "x = 8\n",
    "if x % 2 == 0:\n",
    "    print('Even')\n",
    "else:\n",
    "    print('Odd')\n",
    "print('Done with conditional')"
   ]
  },
  {
   "cell_type": "markdown",
   "metadata": {},
   "source": [
    "### + * 的重载"
   ]
  },
  {
   "cell_type": "code",
   "execution_count": 8,
   "metadata": {},
   "outputs": [
    {
     "data": {
      "text/plain": [
       "'abcefg'"
      ]
     },
     "execution_count": 8,
     "metadata": {},
     "output_type": "execute_result"
    }
   ],
   "source": [
    "'abc' + 'efg'"
   ]
  },
  {
   "cell_type": "code",
   "execution_count": 9,
   "metadata": {},
   "outputs": [
    {
     "data": {
      "text/plain": [
       "'abcabcabcabcabcabcabcabc'"
      ]
     },
     "execution_count": 9,
     "metadata": {},
     "output_type": "execute_result"
    }
   ],
   "source": [
    "'abc' * 8"
   ]
  },
  {
   "cell_type": "code",
   "execution_count": 13,
   "metadata": {},
   "outputs": [
    {
     "data": {
      "text/plain": [
       "[1, 2, 3, 1, 2, 3, 1, 2, 3]"
      ]
     },
     "execution_count": 13,
     "metadata": {},
     "output_type": "execute_result"
    }
   ],
   "source": [
    "[1,2,3]*3"
   ]
  },
  {
   "cell_type": "code",
   "execution_count": 12,
   "metadata": {},
   "outputs": [
    {
     "data": {
      "text/plain": [
       "(1, 2, 3, 1, 2, 3, 1, 2, 3)"
      ]
     },
     "execution_count": 12,
     "metadata": {},
     "output_type": "execute_result"
    }
   ],
   "source": [
    "(1,2,3)*3"
   ]
  },
  {
   "cell_type": "markdown",
   "metadata": {},
   "source": [
    "### 切片\n",
    " \n",
    "`s[start:end]` \n",
    "\n",
    "返回一个从s的第start个元素开始到第end - 1个元素的切片。\n",
    "\n",
    "list的切片还是list，tuple的切片是tuple，str的切片还是str。\n",
    " "
   ]
  },
  {
   "cell_type": "markdown",
   "metadata": {},
   "source": [
    "### 取整与四舍五入\n",
    "int()函数使用的去尾取整，而四舍五入需要使用round()"
   ]
  },
  {
   "cell_type": "code",
   "execution_count": 14,
   "metadata": {},
   "outputs": [
    {
     "data": {
      "text/plain": [
       "3"
      ]
     },
     "execution_count": 14,
     "metadata": {},
     "output_type": "execute_result"
    }
   ],
   "source": [
    "int(3.9)"
   ]
  },
  {
   "cell_type": "code",
   "execution_count": 15,
   "metadata": {},
   "outputs": [
    {
     "data": {
      "text/plain": [
       "4"
      ]
     },
     "execution_count": 15,
     "metadata": {},
     "output_type": "execute_result"
    }
   ],
   "source": [
    "round(3.6)"
   ]
  },
  {
   "cell_type": "code",
   "execution_count": 16,
   "metadata": {},
   "outputs": [
    {
     "data": {
      "text/plain": [
       "3"
      ]
     },
     "execution_count": 16,
     "metadata": {},
     "output_type": "execute_result"
    }
   ],
   "source": [
    "round(3.4)"
   ]
  },
  {
   "cell_type": "code",
   "execution_count": 19,
   "metadata": {},
   "outputs": [
    {
     "data": {
      "text/plain": [
       "3.14"
      ]
     },
     "execution_count": 19,
     "metadata": {},
     "output_type": "execute_result"
    }
   ],
   "source": [
    "import math\n",
    "round(math.pi,2)"
   ]
  },
  {
   "cell_type": "markdown",
   "metadata": {},
   "source": [
    "### 二分查找\n",
    "\n",
    "二分查找是解决很多查找问题的利器，但二分查找需要查找空间是有序的。"
   ]
  },
  {
   "cell_type": "markdown",
   "metadata": {},
   "source": [
    "### 浮点数不等于实数\n",
    "\n",
    "二进制能表示所有的十进制整数，但不能表示所有的有理数。\n",
    "\n",
    "不建议使用浮点数 == 浮点数的比较。"
   ]
  },
  {
   "cell_type": "code",
   "execution_count": 23,
   "metadata": {},
   "outputs": [
    {
     "name": "stdout",
     "output_type": "stream",
     "text": [
      "0.9999999999999999 is not 1.0\n"
     ]
    }
   ],
   "source": [
    "x = 0.0\n",
    "for i in range(10):\n",
    "    x = x + 0.1\n",
    "if x == 1.0:\n",
    "    print(x, '= 1.0')\n",
    "else:\n",
    "    print(x, 'is not 1.0')"
   ]
  },
  {
   "cell_type": "markdown",
   "metadata": {},
   "source": [
    "### 牛顿-拉普森  Newton-Raphson ——解多项式方程\n",
    "\n",
    "- 牛顿大大厉害\n",
    "\n",
    "p(x) = 0的解可以通过g = g - p(g)/p'(g)得到。g最开始可以是任意值，通过上述表达式就可逐次逼近正确解。\n"
   ]
  },
  {
   "cell_type": "code",
   "execution_count": 25,
   "metadata": {},
   "outputs": [
    {
     "name": "stdout",
     "output_type": "stream",
     "text": [
      "Square root of 24.0 is about 4.8989887432139305\n"
     ]
    }
   ],
   "source": [
    "#Newton-Raphson for square root\n",
    "#Find x such that x**2 - 24 is within epsilon of 0\n",
    "epsilon = 0.01\n",
    "k = 24.0\n",
    "guess = k/2.0\n",
    "while abs(guess*guess - k) >= epsilon:\n",
    "    guess = guess - (((guess**2) - k)/(2*guess))\n",
    "print('Square root of', k, 'is about', guess)"
   ]
  },
  {
   "cell_type": "markdown",
   "metadata": {},
   "source": [
    "** 二分搜索也可以求平方根，但牛顿大大的方法更加高效 **"
   ]
  },
  {
   "cell_type": "markdown",
   "metadata": {},
   "source": [
    "### 变量作用域\n",
    "\n",
    "再次推荐上pythontutor.com体验一下。\n",
    "\n",
    "程序使用符号表来记录各种变量的名称（symbol table）\n",
    "\n",
    "每每调用一个函数时都会生成一个栈帧stack frame（本质上是一个新的符号表）来记录本函数的变量名，这个每个函数对应的符号表又被叫做命名空间或者作用域。\n",
    "\n",
    "**但调用一个stack frame中没有的变量时可以去完成寻找**"
   ]
  },
  {
   "cell_type": "code",
   "execution_count": 1,
   "metadata": {},
   "outputs": [
    {
     "data": {
      "text/plain": [
       "4"
      ]
     },
     "execution_count": 1,
     "metadata": {},
     "output_type": "execute_result"
    }
   ],
   "source": [
    "a = 10\n",
    "def f(x):\n",
    "      return x + a\n",
    "a = 3\n",
    "f(1)"
   ]
  },
  {
   "cell_type": "markdown",
   "metadata": {},
   "source": [
    "**上述代码中 函数f定义后解释器首先检查是否有语法错误，然后就存储起来待用**\n",
    "\n",
    "不管调用时a的值为多少，函数定义本身并没有被执行，而调用时a = 3。"
   ]
  },
  {
   "cell_type": "code",
   "execution_count": 4,
   "metadata": {},
   "outputs": [
    {
     "ename": "UnboundLocalError",
     "evalue": "local variable 'x' referenced before assignment",
     "output_type": "error",
     "traceback": [
      "\u001b[1;31m---------------------------------------------------------------------------\u001b[0m",
      "\u001b[1;31mUnboundLocalError\u001b[0m                         Traceback (most recent call last)",
      "\u001b[1;32m<ipython-input-4-3ab2ca725f87>\u001b[0m in \u001b[0;36m<module>\u001b[1;34m()\u001b[0m\n\u001b[0;32m      3\u001b[0m     \u001b[0mprint\u001b[0m\u001b[1;33m(\u001b[0m\u001b[0mx\u001b[0m\u001b[1;33m)\u001b[0m\u001b[1;33m\u001b[0m\u001b[0m\n\u001b[0;32m      4\u001b[0m     \u001b[0mx\u001b[0m \u001b[1;33m=\u001b[0m \u001b[1;36m1\u001b[0m\u001b[1;33m\u001b[0m\u001b[0m\n\u001b[1;32m----> 5\u001b[1;33m \u001b[0mg\u001b[0m\u001b[1;33m(\u001b[0m\u001b[1;33m)\u001b[0m\u001b[1;33m\u001b[0m\u001b[0m\n\u001b[0m",
      "\u001b[1;32m<ipython-input-4-3ab2ca725f87>\u001b[0m in \u001b[0;36mg\u001b[1;34m()\u001b[0m\n\u001b[0;32m      1\u001b[0m \u001b[0mx\u001b[0m \u001b[1;33m=\u001b[0m \u001b[1;36m2\u001b[0m\u001b[1;33m\u001b[0m\u001b[0m\n\u001b[0;32m      2\u001b[0m \u001b[1;32mdef\u001b[0m \u001b[0mg\u001b[0m\u001b[1;33m(\u001b[0m\u001b[1;33m)\u001b[0m\u001b[1;33m:\u001b[0m\u001b[1;33m\u001b[0m\u001b[0m\n\u001b[1;32m----> 3\u001b[1;33m     \u001b[0mprint\u001b[0m\u001b[1;33m(\u001b[0m\u001b[0mx\u001b[0m\u001b[1;33m)\u001b[0m\u001b[1;33m\u001b[0m\u001b[0m\n\u001b[0m\u001b[0;32m      4\u001b[0m     \u001b[0mx\u001b[0m \u001b[1;33m=\u001b[0m \u001b[1;36m1\u001b[0m\u001b[1;33m\u001b[0m\u001b[0m\n\u001b[0;32m      5\u001b[0m \u001b[0mg\u001b[0m\u001b[1;33m(\u001b[0m\u001b[1;33m)\u001b[0m\u001b[1;33m\u001b[0m\u001b[0m\n",
      "\u001b[1;31mUnboundLocalError\u001b[0m: local variable 'x' referenced before assignment"
     ]
    }
   ],
   "source": [
    "x = 2\n",
    "def g():\n",
    "    print(x)\n",
    "    x = 1\n",
    "g()"
   ]
  },
  {
   "cell_type": "markdown",
   "metadata": {},
   "source": [
    "**上述代码中：**\n",
    "\n",
    "函数g中本身有对x的赋值语句 x = 1，而有想用外面的x，这是不被允许的。\n",
    "\n",
    "只要函数g中出现了对变量x的赋值语句，那么这个变量间被视为函数内部的x，就不再指向外面的x。"
   ]
  },
  {
   "cell_type": "markdown",
   "metadata": {},
   "source": [
    "**那么函数里面就不能修改外面变量的值了吗？**\n",
    "\n",
    "但是list可以！！！\n",
    "\n",
    "百思不得其解"
   ]
  },
  {
   "cell_type": "code",
   "execution_count": 40,
   "metadata": {},
   "outputs": [
    {
     "name": "stdout",
     "output_type": "stream",
     "text": [
      "[3]\n"
     ]
    }
   ],
   "source": [
    "x = [1]\n",
    "def g():\n",
    "    x[0] = x[0] + 2 \n",
    "\n",
    "g()\n",
    "print(x)\n"
   ]
  },
  {
   "cell_type": "code",
   "execution_count": 38,
   "metadata": {},
   "outputs": [
    {
     "ename": "UnboundLocalError",
     "evalue": "local variable 'x' referenced before assignment",
     "output_type": "error",
     "traceback": [
      "\u001b[1;31m---------------------------------------------------------------------------\u001b[0m",
      "\u001b[1;31mUnboundLocalError\u001b[0m                         Traceback (most recent call last)",
      "\u001b[1;32m<ipython-input-38-885a784499f9>\u001b[0m in \u001b[0;36m<module>\u001b[1;34m()\u001b[0m\n\u001b[0;32m      3\u001b[0m     \u001b[0mx\u001b[0m \u001b[1;33m=\u001b[0m \u001b[0mx\u001b[0m \u001b[1;33m+\u001b[0m \u001b[1;36m2\u001b[0m\u001b[1;33m\u001b[0m\u001b[0m\n\u001b[0;32m      4\u001b[0m \u001b[1;33m\u001b[0m\u001b[0m\n\u001b[1;32m----> 5\u001b[1;33m \u001b[0mg\u001b[0m\u001b[1;33m(\u001b[0m\u001b[1;33m)\u001b[0m\u001b[1;33m\u001b[0m\u001b[0m\n\u001b[0m\u001b[0;32m      6\u001b[0m \u001b[0mprint\u001b[0m\u001b[1;33m(\u001b[0m\u001b[0mx\u001b[0m\u001b[1;33m)\u001b[0m\u001b[1;33m\u001b[0m\u001b[0m\n",
      "\u001b[1;32m<ipython-input-38-885a784499f9>\u001b[0m in \u001b[0;36mg\u001b[1;34m()\u001b[0m\n\u001b[0;32m      1\u001b[0m \u001b[0mx\u001b[0m \u001b[1;33m=\u001b[0m \u001b[1;36m1\u001b[0m\u001b[1;33m\u001b[0m\u001b[0m\n\u001b[0;32m      2\u001b[0m \u001b[1;32mdef\u001b[0m \u001b[0mg\u001b[0m\u001b[1;33m(\u001b[0m\u001b[1;33m)\u001b[0m\u001b[1;33m:\u001b[0m\u001b[1;33m\u001b[0m\u001b[0m\n\u001b[1;32m----> 3\u001b[1;33m     \u001b[0mx\u001b[0m \u001b[1;33m=\u001b[0m \u001b[0mx\u001b[0m \u001b[1;33m+\u001b[0m \u001b[1;36m2\u001b[0m\u001b[1;33m\u001b[0m\u001b[0m\n\u001b[0m\u001b[0;32m      4\u001b[0m \u001b[1;33m\u001b[0m\u001b[0m\n\u001b[0;32m      5\u001b[0m \u001b[0mg\u001b[0m\u001b[1;33m(\u001b[0m\u001b[1;33m)\u001b[0m\u001b[1;33m\u001b[0m\u001b[0m\n",
      "\u001b[1;31mUnboundLocalError\u001b[0m: local variable 'x' referenced before assignment"
     ]
    }
   ],
   "source": [
    "x = 1\n",
    "def g():\n",
    "    x = x + 2\n",
    "    \n",
    "g()\n",
    "print(x)"
   ]
  },
  {
   "cell_type": "markdown",
   "metadata": {},
   "source": [
    "### 文档 specification 函数的使用说明\n",
    "\n",
    "- 本质上可以看作是调用函数的用户和编写函数的程序员之间的约定。\n",
    "\n",
    "核心内容为“我给你什么样的输入，你给我什么样的输出”。\n",
    "\n",
    "见如下例子。"
   ]
  },
  {
   "cell_type": "code",
   "execution_count": 41,
   "metadata": {
    "collapsed": true
   },
   "outputs": [],
   "source": [
    "def findRoot(x, power, epsilon):\n",
    "    \"\"\"Assumes x and epsilon int or float, power an int,\n",
    "    epsilon > 0 & power >= 1\n",
    "    Returns float y such that y**power is within epsilon of x.\n",
    "    If such a float does not exist, it returns None\"\"\"\n",
    "    pass"
   ]
  },
  {
   "cell_type": "markdown",
   "metadata": {},
   "source": [
    "### 装逼利器 递归 Recursion\n",
    "\n",
    "与数学归纳法及其类似，递归只需要记住两点：\n",
    "- 基础情况 base case\n",
    "- 递归情况（归纳情况） recursive case (inductive case)\n"
   ]
  },
  {
   "cell_type": "code",
   "execution_count": 44,
   "metadata": {},
   "outputs": [
    {
     "data": {
      "text/plain": [
       "120"
      ]
     },
     "execution_count": 44,
     "metadata": {},
     "output_type": "execute_result"
    }
   ],
   "source": [
    "def fact(n):\n",
    "    if n == 1:  #base case\n",
    "        return 1\n",
    "    else:\n",
    "        return n * fact(n-1) #递归关系\n",
    "fact(5)"
   ]
  },
  {
   "cell_type": "markdown",
   "metadata": {},
   "source": [
    "** 递归的收敛性证明和数学归纳法完全一样: **\n",
    "\n",
    "先证明特殊情况；假设 k情况处理，推到出k+1也成立的结论。"
   ]
  },
  {
   "cell_type": "markdown",
   "metadata": {},
   "source": [
    "### helper function 辅助函数\n",
    "\n",
    "辅助函数是指在函数内定义的函数，这些函数可在本函数内使用，而不能再其他地方使用。"
   ]
  },
  {
   "cell_type": "markdown",
   "metadata": {},
   "source": [
    "### boolean 表达是在计算时也会和C语言一样存在短路的现象"
   ]
  },
  {
   "cell_type": "markdown",
   "metadata": {
    "collapsed": true
   },
   "source": [
    "### import 导入模块"
   ]
  },
  {
   "cell_type": "code",
   "execution_count": 1,
   "metadata": {},
   "outputs": [
    {
     "name": "stdout",
     "output_type": "stream",
     "text": [
      "3.141592653589793\n"
     ]
    }
   ],
   "source": [
    "import math\n",
    "print(math.pi)"
   ]
  },
  {
   "cell_type": "code",
   "execution_count": 2,
   "metadata": {},
   "outputs": [
    {
     "name": "stdout",
     "output_type": "stream",
     "text": [
      "3.141592653589793\n"
     ]
    }
   ],
   "source": [
    "from math import pi\n",
    "print(pi)"
   ]
  },
  {
   "cell_type": "code",
   "execution_count": 3,
   "metadata": {},
   "outputs": [
    {
     "name": "stdout",
     "output_type": "stream",
     "text": [
      "3.141592653589793\n"
     ]
    }
   ],
   "source": [
    "from math import *  #math里面的所有东西都\n",
    "print(pi)"
   ]
  },
  {
   "cell_type": "code",
   "execution_count": 5,
   "metadata": {},
   "outputs": [
    {
     "name": "stdout",
     "output_type": "stream",
     "text": [
      "3.141592653589793\n"
     ]
    }
   ],
   "source": [
    "import math as m  #math里面的所有东西都原封不动的复制到了这里\n",
    "print(m.pi)"
   ]
  },
  {
   "cell_type": "markdown",
   "metadata": {},
   "source": [
    "**注意：一个源文件可以作为一个模块被导入。但如果你打开一个python命令行并以模块的形式导入了某个源文件，若此时修改源文件将不会影响已经导入的模块的行为，这时需要重新打开一个新的python命令行并在此导入该模块，才能使得修改生效。**"
   ]
  },
  {
   "cell_type": "markdown",
   "metadata": {},
   "source": [
    "### 多重赋值"
   ]
  },
  {
   "cell_type": "code",
   "execution_count": 9,
   "metadata": {},
   "outputs": [
    {
     "name": "stdout",
     "output_type": "stream",
     "text": [
      "x y z 1 2 3 4\n"
     ]
    }
   ],
   "source": [
    "a, b, c = 'xyz'\n",
    "e,f = (1,2)\n",
    "g,h = [3,4]\n",
    "print(a,b,c,e,f,g,h)"
   ]
  },
  {
   "cell_type": "code",
   "execution_count": 12,
   "metadata": {},
   "outputs": [
    {
     "name": "stdout",
     "output_type": "stream",
     "text": [
      "<class 'tuple'>\n"
     ]
    }
   ],
   "source": [
    "def f():\n",
    "    return 1,2\n",
    "print(type(f())) #1,2相当于(1,2)"
   ]
  },
  {
   "cell_type": "markdown",
   "metadata": {},
   "source": [
    "### Mutable 可变数据结构\n",
    "\n",
    "list和dictionary不同于整数int、字符串str和tuple，是一种mutable对象。\n",
    "\n",
    "int 和 str 本质上不可变，a = 3,  b = 3, 变量a和b都指向整数3，但整数3本身永远也不会被修改为其他东西。\n",
    "\n",
    "a = 3, a = a + 2,本来变量a指向整数3，但通过等号赋值后又指向了新的整数5，而整数3本身没有变化。\n",
    "\n",
    "上述性质对list来说不成立，如下程序可知，L和Lr指向相同的list，但这个list本身是可变的（Mutable），改变这个list，也将同时改变这两个变量。"
   ]
  },
  {
   "cell_type": "code",
   "execution_count": 13,
   "metadata": {},
   "outputs": [
    {
     "name": "stdout",
     "output_type": "stream",
     "text": [
      "L =  [1, 2, 3, 4]\n",
      "Lr =  [1, 2, 3, 4]\n",
      "L =  [4, 3, 2, 1]\n",
      "Lr =  [4, 3, 2, 1]\n"
     ]
    }
   ],
   "source": [
    "L = list(range(1,5))\n",
    "Lr= L\n",
    "print('L = ',L)\n",
    "print('Lr = ',Lr)\n",
    "L.reverse()\n",
    "print('L = ',L)\n",
    "print('Lr = ',Lr) #为什么Lr也被转过来呢"
   ]
  },
  {
   "cell_type": "markdown",
   "metadata": {},
   "source": [
    "从C语言的角度来看，list和指针有些类似，当 Lr = L 时，Lr指向L所指的list，而不是新建一个新的list Lr。 此时只有一个list，且这个list有两个alias 别名（或叫引用名）L和Lr。\n",
    "\n",
    "为了生成一个新的list，不能单纯使用赋值 = ，而需要使用list生成式。\n",
    "\n",
    "**可变对象存在同名混淆（alias）的问题**，即一个可修改的对象有多个名字，通过这些名字都能修改相同的内容。"
   ]
  },
  {
   "cell_type": "code",
   "execution_count": 15,
   "metadata": {},
   "outputs": [
    {
     "name": "stdout",
     "output_type": "stream",
     "text": [
      "L =  [4, 3, 2, 1]\n",
      "Lr =  [1, 2, 3, 4]\n"
     ]
    }
   ],
   "source": [
    "L = list(range(1,5))\n",
    "Lr= [x for x in L] #用这种列表生成式子就能拷贝一份独立的L\n",
    "#Lr = L[:] #切片的方式也可以返回一个拷贝\n",
    "L.reverse()\n",
    "print('L = ',L)\n",
    "print('Lr = ',Lr)"
   ]
  },
  {
   "cell_type": "code",
   "execution_count": 56,
   "metadata": {},
   "outputs": [
    {
     "name": "stdout",
     "output_type": "stream",
     "text": [
      "2809124884296 2809124884296 2809124883272 2809124881544 2809124343752 2809125007752 2809124342792\n"
     ]
    }
   ],
   "source": [
    "# list 的复制方法\n",
    "L1 = [1,2,3]\n",
    "L1_alias = L1\n",
    "L2 = L1[:]\n",
    "L3 = L1 + []\n",
    "L4 = [x for x in L1]\n",
    "L5 = list(L1)\n",
    "L6 = L1.copy()\n",
    "#id()能反映python解释器中对象的唯一标示\n",
    "print(id(L1),id(L1_alias),id(L2),id(L3),id(L4),id(L5),id(L6))"
   ]
  },
  {
   "cell_type": "code",
   "execution_count": 61,
   "metadata": {},
   "outputs": [
    {
     "name": "stdout",
     "output_type": "stream",
     "text": [
      "[[1, 3], [2]]\n",
      "[[1, 3], [2], [1, 3]]\n",
      "[[1], [2]]\n"
     ]
    }
   ],
   "source": [
    "# list嵌套时，情况变得更加复杂\n",
    "L1 = [1]\n",
    "L2 = [2]\n",
    "L3 = [L1, L2] #这里进行赋值时不是把L1的值付给L3的第一个元素，而是将L1这的list作为L3的第一个元素，而L1本身是可以被修改的\n",
    "L4 = L3[:]    #这里虽然通过切片进行了赋值导致L3和L4不再指向相同的list，但L4的第一个元素仍然是L1\n",
    "import copy\n",
    "L5 = copy.deepcopy(L3)\n",
    "L4.append(L1)\n",
    "L1.append(3)\n",
    "print(L3)\n",
    "print(L4)\n",
    "print(L5)"
   ]
  },
  {
   "cell_type": "markdown",
   "metadata": {},
   "source": [
    "上述代码中L1的别名有：L3[0]、L4[0]和L4[2];\n",
    "\n",
    "L2的别名有：L3[1]和L4[1];\n",
    "\n",
    "### 面对这种情况时可选择copy.deepcopy()的方法来应对嵌套的list的拷贝。"
   ]
  },
  {
   "cell_type": "markdown",
   "metadata": {},
   "source": [
    "**list嵌套时，情况变得更加复杂**"
   ]
  },
  {
   "cell_type": "code",
   "execution_count": 76,
   "metadata": {},
   "outputs": [
    {
     "name": "stdout",
     "output_type": "stream",
     "text": [
      "[1, 2, 3, [4, 5, 6, [...]]] [4, 5, 6, [1, 2, 3, [...]]]\n",
      "[1, 2, 3, [4, 5, 6, [...]]]\n"
     ]
    }
   ],
   "source": [
    "L1 = [1,2,3]\n",
    "L2 = [4,5,6]\n",
    "L1.append(L2) # L1 = [1,2,3,L2]\n",
    "L2.append(L1) # L2 = [4,5,6,L1]\n",
    "print(L1,L2)  #通过上面不断迭代根本无穷无尽\n",
    "print(L1[3][3][3][3]) "
   ]
  },
  {
   "cell_type": "code",
   "execution_count": 50,
   "metadata": {},
   "outputs": [
    {
     "name": "stdout",
     "output_type": "stream",
     "text": [
      "[2, 3, 4]\n"
     ]
    }
   ],
   "source": [
    "def removeDups(L1, L2):\n",
    "    \"\"\"Assumes that L1 and L2 are lists.\n",
    "    Removes any element from L1 that also occurs in L2\"\"\"\n",
    "    for e1 in L1: #这里的list被修改了\n",
    "        if e1 in L2:\n",
    "            L1.remove(e1)\n",
    "L1 = [1,2,3,4]\n",
    "L2 = [1,2,5,6]\n",
    "removeDups(L1, L2)\n",
    "print(L1)"
   ]
  },
  {
   "cell_type": "markdown",
   "metadata": {},
   "source": [
    "**上述代码中**，第一次循环中e1 = 1，并执行了L1.remove(e1)语句，L1变为了[2,3,4]。**第二次循环时e1将去取L1的第二个元素L1[1] = 3**。"
   ]
  },
  {
   "cell_type": "code",
   "execution_count": 52,
   "metadata": {},
   "outputs": [
    {
     "name": "stdout",
     "output_type": "stream",
     "text": [
      "[3, 4]\n"
     ]
    }
   ],
   "source": [
    "def removeDups(L1, L2):\n",
    "    \"\"\"Assumes that L1 and L2 are lists.\n",
    "    Removes any element from L1 that also occurs in L2\"\"\"\n",
    "    for e1 in L1[:]: #使用切片拷贝一份 L1\n",
    "        if e1 in L2:\n",
    "            L1.remove(e1)\n",
    "L1 = [1,2,3,4]\n",
    "L2 = [1,2,5,6]\n",
    "removeDups(L1, L2)\n",
    "print(L1)"
   ]
  },
  {
   "cell_type": "markdown",
   "metadata": {},
   "source": [
    "### list.extend() 方法"
   ]
  },
  {
   "cell_type": "code",
   "execution_count": 45,
   "metadata": {},
   "outputs": [
    {
     "name": "stdout",
     "output_type": "stream",
     "text": [
      "[1, 2, 3, 4, 5, 6]\n"
     ]
    }
   ],
   "source": [
    "L1 = [1,2,3]\n",
    "L2 = [4,5,6]\n",
    "L1.extend(L2) #与append方法不同，extend类似于 + \n",
    "print(L1)"
   ]
  },
  {
   "cell_type": "markdown",
   "metadata": {},
   "source": [
    "### list 生成式"
   ]
  },
  {
   "cell_type": "code",
   "execution_count": 62,
   "metadata": {},
   "outputs": [
    {
     "name": "stdout",
     "output_type": "stream",
     "text": [
      "[1, 4, 9]\n"
     ]
    }
   ],
   "source": [
    "mixed = [1, 2, 'a', 3, 4.0]\n",
    "print([x**2 for x in mixed if type(x) == int])"
   ]
  },
  {
   "cell_type": "code",
   "execution_count": 66,
   "metadata": {},
   "outputs": [
    {
     "name": "stdout",
     "output_type": "stream",
     "text": [
      "<generator object <genexpr> at 0x0000028E0CE2BBF8>\n",
      "1\n",
      "4\n",
      "9\n"
     ]
    },
    {
     "ename": "StopIteration",
     "evalue": "",
     "output_type": "error",
     "traceback": [
      "\u001b[1;31m---------------------------------------------------------------------------\u001b[0m",
      "\u001b[1;31mStopIteration\u001b[0m                             Traceback (most recent call last)",
      "\u001b[1;32m<ipython-input-66-b6453d51f256>\u001b[0m in \u001b[0;36m<module>\u001b[1;34m()\u001b[0m\n\u001b[0;32m      5\u001b[0m \u001b[0mprint\u001b[0m\u001b[1;33m(\u001b[0m\u001b[0mnext\u001b[0m\u001b[1;33m(\u001b[0m\u001b[0mg\u001b[0m\u001b[1;33m)\u001b[0m\u001b[1;33m)\u001b[0m\u001b[1;33m\u001b[0m\u001b[0m\n\u001b[0;32m      6\u001b[0m \u001b[0mprint\u001b[0m\u001b[1;33m(\u001b[0m\u001b[0mnext\u001b[0m\u001b[1;33m(\u001b[0m\u001b[0mg\u001b[0m\u001b[1;33m)\u001b[0m\u001b[1;33m)\u001b[0m\u001b[1;33m\u001b[0m\u001b[0m\n\u001b[1;32m----> 7\u001b[1;33m \u001b[0mprint\u001b[0m\u001b[1;33m(\u001b[0m\u001b[0mnext\u001b[0m\u001b[1;33m(\u001b[0m\u001b[0mg\u001b[0m\u001b[1;33m)\u001b[0m\u001b[1;33m)\u001b[0m\u001b[1;33m\u001b[0m\u001b[0m\n\u001b[0m",
      "\u001b[1;31mStopIteration\u001b[0m: "
     ]
    }
   ],
   "source": [
    "mixed = [1, 2, 'a', 3, 4.0]\n",
    "g = (x**2 for x in mixed if type(x) == int)\n",
    "print(g)\n",
    "print(next(g))\n",
    "print(next(g))\n",
    "print(next(g))\n",
    "print(next(g))"
   ]
  },
  {
   "cell_type": "markdown",
   "metadata": {},
   "source": [
    "### 字符串的重要方法 join 和 split 方法"
   ]
  },
  {
   "cell_type": "code",
   "execution_count": 67,
   "metadata": {},
   "outputs": [
    {
     "name": "stdout",
     "output_type": "stream",
     "text": [
      "['My', 'favorite', 'professor--John', 'G.--rocks']\n",
      "['My favorite professor', '', 'John G.', '', 'rocks']\n",
      "['My favorite professor', 'John G.', 'rocks']\n"
     ]
    }
   ],
   "source": [
    "print('My favorite professor--John G.--rocks'.split(' '))\n",
    "print('My favorite professor--John G.--rocks'.split('-'))\n",
    "print('My favorite professor--John G.--rocks'.split('--'))"
   ]
  },
  {
   "cell_type": "code",
   "execution_count": 71,
   "metadata": {},
   "outputs": [
    {
     "name": "stdout",
     "output_type": "stream",
     "text": [
      "My favorite professor--John G.--rocks\n",
      "My favorite professor--John G.--rocks\n",
      "My favorite professor--John G.--rocks\n"
     ]
    }
   ],
   "source": [
    "print(' '.join(['My', 'favorite', 'professor--John', 'G.--rocks']))\n",
    "print('-'.join(['My favorite professor', '', 'John G.', '', 'rocks']))\n",
    "print('--'.join(['My favorite professor', 'John G.', 'rocks']))"
   ]
  },
  {
   "cell_type": "markdown",
   "metadata": {},
   "source": [
    "### Dictionary的Key只能是不可变（immutable）类型的量，list和dict都不能作为key"
   ]
  },
  {
   "cell_type": "markdown",
   "metadata": {},
   "source": [
    "**To quote Edsger Dijkstra, “Program testing can be used to show the presence of bugs, but never to show their absence!”**\n",
    "\n",
    "Edsger Dijkstr 曾说过 “软件测试只能被用于证明有bug，永远没法证没bug”。\n",
    "\n",
    "程序测试过程之中出错证明有bug，但是通过测试的程序也不能保证没有bug。"
   ]
  },
  {
   "cell_type": "markdown",
   "metadata": {},
   "source": [
    "### 程序测试的本质是使用有代表性的输入组成测试集（test suit）\n",
    "\n",
    "程序在测试集上的运行结果若期望相一致，则通过测试。\n",
    "\n",
    "但是如何选择测试集就是个玄学的问题。主要有两种思路：\n",
    "\n",
    "- 黑盒子测试：在只知道程序的功能的情况下，去选择测试集。即通过浏览说明程序功能的描述文档，来寻找测试集，尽量包含各种边界和极端情况。白盒子测试不允许测试人员看程序代码本身，能避免被程序本身的思维漏洞影响，而只关注程序能否实现其功能。黑盒子测试通常由专门的程序测试人员来进行。\n",
    "\n",
    "\n",
    "- 白盒子测试：在了解程序代码的情况下，选择测试集。例如程序通常用包含多个分支，白盒子测试就要保证每个分支都被测试集覆盖（ path-complete ）。具体而言，白盒子测试有以下讲究：\n",
    "    - if else elif 等存在分支语句的地方,测试集需要覆盖每个分支\n",
    "    - 有利用try except等错误处理机制来控制程序运行的地方，确保测试集能覆盖所有 raise except情况。\n",
    "    - 对于 for 循环，要测试不进入该循环的情况，循环仅进行1次的情况，循环执行多次的情况。有break时，确保测试集覆盖每个break。\n",
    "    - while 循环在上述for循环基础上，还需要额外测试while循环的不同退出条件。例如```while len(L) > 0 and not L[i] == e``` 需要确保每个退出的情况都被测试。\n",
    "    - 对递归函数来讲，需要测试递归函数仅被执行一次的情况，和递归多次的情况。"
   ]
  },
  {
   "cell_type": "markdown",
   "metadata": {},
   "source": [
    "### 单元测试、整体测试、测试驱动程序(test driver)、测试桩(test stub)和 SQA \n",
    "\n",
    "为了保证软件的质量，软件程序需要进行很多的测试，首先程序的开发团队会对每个某块进行测试，即进行单位测试（unit test）。\n",
    "\n",
    "在每个某块都通过单位测试后，需要进行整体测试（integration testing），如果整体测试不通过，那么将定位bug位置在哪个某块，修改该某块并在此进行单位测试和整体测试。\n",
    "\n",
    "通常有专业的质量保证团队来测试软件，即公司的QA部门。\n",
    "\n",
    "软件测试有专门的测试工具，具有一定自动测试的能力，这些测试工具被称为测试驱动程序(test driver)。测试驱动程序主要测试程序被调用时表现出来的功能是否正常。测试驱动程序首先需要模拟程序被调用的环境，然后用自动生成或预先人为定义好的测试集作为输入进行大量测试。将这些测试结果和期望的结果之间进行比较，以此判断是否通过测试。\n",
    "\n",
    "测试桩：\n",
    "在进行单位测试时，即仅仅测试本模块的功能。然而一个模块常常需要使用到其他模块的功能，即和其他模块有交互，而往往这时，其他模块还没有实现，那就需要测试桩（test stub）来模拟这些模块的行为。测试桩模拟程序调用的其他模块的功能。\n",
    "\n",
    "回归测试 regression testing：\n",
    "\n",
    "一旦修改了代码需要再次仅软件测试。\n"
   ]
  },
  {
   "cell_type": "markdown",
   "metadata": {
    "collapsed": true
   },
   "source": [
    "###  Defensive Programming 防御式编程\n",
    "\n",
    "若程序的执行过程中出现了错误的输入或者错误的中间变量，程序会直接报错或者主动去处理这些错误，而不是让程序错误地继续执行下去，最终得到错误的结果。\n",
    "\n",
    "其主要目的是将潜在的隐形bug，变为显性bug，利用asset 和 raise 等手段。"
   ]
  },
  {
   "cell_type": "markdown",
   "metadata": {},
   "source": [
    "### Not a Number NaN "
   ]
  },
  {
   "cell_type": "code",
   "execution_count": 3,
   "metadata": {},
   "outputs": [
    {
     "data": {
      "text/plain": [
       "nan"
      ]
     },
     "execution_count": 3,
     "metadata": {},
     "output_type": "execute_result"
    }
   ],
   "source": [
    "float(\"nan\")"
   ]
  },
  {
   "cell_type": "markdown",
   "metadata": {
    "collapsed": true
   },
   "source": [
    "### 异常的抛出与捕获 raise try except else finally assert\n",
    "\n",
    "程序报错就是程序发生了各种异常，不处理这些异常时程序会中断并报错。\n",
    "\n",
    "而异常捕获是程序自动应对这些异常，因此又被称为异常处理。"
   ]
  },
  {
   "cell_type": "code",
   "execution_count": 5,
   "metadata": {},
   "outputs": [
    {
     "ename": "Exception",
     "evalue": "Something went wrong",
     "output_type": "error",
     "traceback": [
      "\u001b[1;31m---------------------------------------------------------------------------\u001b[0m",
      "\u001b[1;31mException\u001b[0m                                 Traceback (most recent call last)",
      "\u001b[1;32m<ipython-input-5-e0ba315a98bc>\u001b[0m in \u001b[0;36m<module>\u001b[1;34m()\u001b[0m\n\u001b[1;32m----> 1\u001b[1;33m \u001b[1;32mraise\u001b[0m \u001b[0mException\u001b[0m\u001b[1;33m(\u001b[0m\u001b[1;34m'Something went wrong'\u001b[0m\u001b[1;33m)\u001b[0m\u001b[1;33m\u001b[0m\u001b[0m\n\u001b[0m",
      "\u001b[1;31mException\u001b[0m: Something went wrong"
     ]
    }
   ],
   "source": [
    "raise Exception('出现了一个异常')"
   ]
  },
  {
   "cell_type": "code",
   "execution_count": 6,
   "metadata": {},
   "outputs": [
    {
     "name": "stdout",
     "output_type": "stream",
     "text": [
      "捕获到一个异常\n"
     ]
    }
   ],
   "source": [
    "try:\n",
    "    raise Exception('出现了一个异常')\n",
    "except:\n",
    "    print('捕获到一个异常') #注意到这里处理了异常，并没有直接报错。"
   ]
  },
  {
   "cell_type": "code",
   "execution_count": 9,
   "metadata": {},
   "outputs": [
    {
     "name": "stdout",
     "output_type": "stream",
     "text": [
      "出现了一个异常\n"
     ]
    }
   ],
   "source": [
    "try:\n",
    "    raise Exception('出现了一个异常')\n",
    "except Exception as ex:    #报错时会抛出一段说明字符串\n",
    "    print(ex)              #这里将这个字符串赋值给了ex"
   ]
  },
  {
   "cell_type": "markdown",
   "metadata": {},
   "source": [
    "### 异常（Exception）的种类有很多，包括 TypeError,IndexError, NameError 和 ValueError等\n",
    "\n",
    "这些异常本质都是类，有一定的继承关系，都属于Exception"
   ]
  },
  {
   "cell_type": "code",
   "execution_count": 12,
   "metadata": {},
   "outputs": [
    {
     "name": "stdout",
     "output_type": "stream",
     "text": [
      "Enter an integer: s\n",
      "s is not an integer\n",
      "Enter an integer: 1\n",
      "The square of the number you entered is 1\n"
     ]
    }
   ],
   "source": [
    "while True:\n",
    "    val = input('Enter an integer: ')\n",
    "    try:\n",
    "        val = int(val)\n",
    "        print('The square of the number you entered is', val**2)\n",
    "        break #to exit the while loop\n",
    "    except ValueError:\n",
    "        print(val, 'is not an integer')"
   ]
  },
  {
   "cell_type": "code",
   "execution_count": 16,
   "metadata": {},
   "outputs": [
    {
     "name": "stdout",
     "output_type": "stream",
     "text": [
      "不是ValueError的其他异常\n"
     ]
    }
   ],
   "source": [
    "try:\n",
    "    raise NameError('A Name Error！')\n",
    "except ValueError:\n",
    "    print('A Value Error！')\n",
    "except:\n",
    "    print('不是ValueError的其他异常')"
   ]
  },
  {
   "cell_type": "code",
   "execution_count": 1,
   "metadata": {
    "collapsed": true
   },
   "outputs": [],
   "source": [
    "def fancy_divide(numbers,index):\n",
    "    try:\n",
    "        denom = numbers[index]\n",
    "        for i in range(len(numbers)):\n",
    "            numbers[i] /= denom\n",
    "    except IndexError,KeyError: #有try程序体有IndexError和KeyError时执行 except从句\n",
    "        print(\"-1\")\n",
    "    else:              #没有IndexError和KeyError时且没有其他错误时执行else从句\n",
    "        print(\"1\")\n",
    "    finally:          #不管有没有IndexError和KeyError都执行finally\n",
    "        print(\"0\")"
   ]
  },
  {
   "cell_type": "code",
   "execution_count": 2,
   "metadata": {},
   "outputs": [
    {
     "name": "stdout",
     "output_type": "stream",
     "text": [
      "1\n",
      "0\n"
     ]
    }
   ],
   "source": [
    "fancy_divide([0, 2, 4], 1)"
   ]
  },
  {
   "cell_type": "code",
   "execution_count": 3,
   "metadata": {},
   "outputs": [
    {
     "name": "stdout",
     "output_type": "stream",
     "text": [
      "-1\n",
      "0\n"
     ]
    }
   ],
   "source": [
    "fancy_divide([0, 2, 4], 4)"
   ]
  },
  {
   "cell_type": "code",
   "execution_count": 4,
   "metadata": {},
   "outputs": [
    {
     "name": "stdout",
     "output_type": "stream",
     "text": [
      "0\n"
     ]
    },
    {
     "ename": "ZeroDivisionError",
     "evalue": "division by zero",
     "output_type": "error",
     "traceback": [
      "\u001b[1;31m---------------------------------------------------------------------------\u001b[0m",
      "\u001b[1;31mZeroDivisionError\u001b[0m                         Traceback (most recent call last)",
      "\u001b[1;32m<ipython-input-4-c1b0ac98281c>\u001b[0m in \u001b[0;36m<module>\u001b[1;34m()\u001b[0m\n\u001b[1;32m----> 1\u001b[1;33m \u001b[0mfancy_divide\u001b[0m\u001b[1;33m(\u001b[0m\u001b[1;33m[\u001b[0m\u001b[1;36m0\u001b[0m\u001b[1;33m,\u001b[0m \u001b[1;36m2\u001b[0m\u001b[1;33m,\u001b[0m \u001b[1;36m4\u001b[0m\u001b[1;33m]\u001b[0m\u001b[1;33m,\u001b[0m \u001b[1;36m0\u001b[0m\u001b[1;33m)\u001b[0m\u001b[1;33m\u001b[0m\u001b[0m\n\u001b[0m",
      "\u001b[1;32m<ipython-input-1-610674c8648f>\u001b[0m in \u001b[0;36mfancy_divide\u001b[1;34m(numbers, index)\u001b[0m\n\u001b[0;32m      3\u001b[0m         \u001b[0mdenom\u001b[0m \u001b[1;33m=\u001b[0m \u001b[0mnumbers\u001b[0m\u001b[1;33m[\u001b[0m\u001b[0mindex\u001b[0m\u001b[1;33m]\u001b[0m\u001b[1;33m\u001b[0m\u001b[0m\n\u001b[0;32m      4\u001b[0m         \u001b[1;32mfor\u001b[0m \u001b[0mi\u001b[0m \u001b[1;32min\u001b[0m \u001b[0mrange\u001b[0m\u001b[1;33m(\u001b[0m\u001b[0mlen\u001b[0m\u001b[1;33m(\u001b[0m\u001b[0mnumbers\u001b[0m\u001b[1;33m)\u001b[0m\u001b[1;33m)\u001b[0m\u001b[1;33m:\u001b[0m\u001b[1;33m\u001b[0m\u001b[0m\n\u001b[1;32m----> 5\u001b[1;33m             \u001b[0mnumbers\u001b[0m\u001b[1;33m[\u001b[0m\u001b[0mi\u001b[0m\u001b[1;33m]\u001b[0m \u001b[1;33m/=\u001b[0m \u001b[0mdenom\u001b[0m\u001b[1;33m\u001b[0m\u001b[0m\n\u001b[0m\u001b[0;32m      6\u001b[0m     \u001b[1;32mexcept\u001b[0m \u001b[0mIndexError\u001b[0m\u001b[1;33m:\u001b[0m\u001b[1;33m\u001b[0m\u001b[0m\n\u001b[0;32m      7\u001b[0m         \u001b[0mprint\u001b[0m\u001b[1;33m(\u001b[0m\u001b[1;34m\"-1\"\u001b[0m\u001b[1;33m)\u001b[0m\u001b[1;33m\u001b[0m\u001b[0m\n",
      "\u001b[1;31mZeroDivisionError\u001b[0m: division by zero"
     ]
    }
   ],
   "source": [
    "fancy_divide([0, 2, 4], 0) #有了其他异常"
   ]
  },
  {
   "cell_type": "markdown",
   "metadata": {},
   "source": [
    "**注意上面的else语句**：只有没有IndexError和KeyError时且没有其他错误时执行else从句"
   ]
  },
  {
   "cell_type": "code",
   "execution_count": 5,
   "metadata": {},
   "outputs": [
    {
     "name": "stdout",
     "output_type": "stream",
     "text": [
      "1\n"
     ]
    }
   ],
   "source": [
    "try:\n",
    "    try:\n",
    "        raise Exception()\n",
    "    except:\n",
    "        print('1')\n",
    "except:\n",
    "    print(2)  "
   ]
  },
  {
   "cell_type": "markdown",
   "metadata": {
    "collapsed": true
   },
   "source": [
    "**上述代码中**，存在嵌套的try except，其中由于异常已经在内层被处理，没有向外层抛出错误。"
   ]
  },
  {
   "cell_type": "code",
   "execution_count": 7,
   "metadata": {},
   "outputs": [
    {
     "name": "stdout",
     "output_type": "stream",
     "text": [
      "2\n"
     ]
    }
   ],
   "source": [
    "#内层处理不了的异常将向外抛出\n",
    "try:\n",
    "    try:\n",
    "        raise Exception()\n",
    "    except ValueError:\n",
    "        print('1')\n",
    "except:\n",
    "    print(2)"
   ]
  },
  {
   "cell_type": "markdown",
   "metadata": {
    "collapsed": true
   },
   "source": [
    "dot . \n",
    "继承\n",
    "调用父类的方法\n",
    "调用父类\n",
    "多重继承"
   ]
  },
  {
   "cell_type": "markdown",
   "metadata": {
    "collapsed": true
   },
   "source": [
    "特殊方法 定制类\n",
    "__init__\n",
    "__add__\n",
    "__sub__\n",
    "__lt__\n",
    "__eq__"
   ]
  },
  {
   "cell_type": "code",
   "execution_count": null,
   "metadata": {
    "collapsed": true
   },
   "outputs": [],
   "source": []
  },
  {
   "cell_type": "code",
   "execution_count": null,
   "metadata": {
    "collapsed": true
   },
   "outputs": [],
   "source": []
  },
  {
   "cell_type": "code",
   "execution_count": null,
   "metadata": {
    "collapsed": true
   },
   "outputs": [],
   "source": []
  },
  {
   "cell_type": "code",
   "execution_count": null,
   "metadata": {
    "collapsed": true
   },
   "outputs": [],
   "source": []
  },
  {
   "cell_type": "code",
   "execution_count": null,
   "metadata": {
    "collapsed": true
   },
   "outputs": [],
   "source": []
  },
  {
   "cell_type": "code",
   "execution_count": null,
   "metadata": {
    "collapsed": true
   },
   "outputs": [],
   "source": []
  },
  {
   "cell_type": "code",
   "execution_count": null,
   "metadata": {
    "collapsed": true
   },
   "outputs": [],
   "source": []
  },
  {
   "cell_type": "code",
   "execution_count": null,
   "metadata": {
    "collapsed": true
   },
   "outputs": [],
   "source": []
  },
  {
   "cell_type": "code",
   "execution_count": null,
   "metadata": {
    "collapsed": true
   },
   "outputs": [],
   "source": []
  }
 ],
 "metadata": {
  "kernelspec": {
   "display_name": "Python 3",
   "language": "python",
   "name": "python3"
  },
  "language_info": {
   "codemirror_mode": {
    "name": "ipython",
    "version": 3
   },
   "file_extension": ".py",
   "mimetype": "text/x-python",
   "name": "python",
   "nbconvert_exporter": "python",
   "pygments_lexer": "ipython3",
   "version": "3.6.1"
  }
 },
 "nbformat": 4,
 "nbformat_minor": 2
}
